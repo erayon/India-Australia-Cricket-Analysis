{
 "cells": [
  {
   "cell_type": "markdown",
   "metadata": {},
   "source": [
    "# Compare best bowlers (measured by runs/wicket or runs/over) from India and Australia."
   ]
  },
  {
   "cell_type": "code",
   "execution_count": 22,
   "metadata": {
    "collapsed": true
   },
   "outputs": [],
   "source": [
    "import pandas as pd\n",
    "import numpy as np\n",
    "import matplotlib.pyplot as plt\n",
    "import datetime as dt\n",
    "import matplotlib.pyplot as plt\n",
    "import matplotlib.dates as mdates\n",
    "import seaborn as sns\n",
    "import plotly.plotly as py\n",
    "import plotly.graph_objs as go\n",
    "%matplotlib notebook"
   ]
  },
  {
   "cell_type": "markdown",
   "metadata": {},
   "source": [
    "# India's best bowlers against Australia"
   ]
  },
  {
   "cell_type": "code",
   "execution_count": 23,
   "metadata": {},
   "outputs": [
    {
     "name": "stderr",
     "output_type": "stream",
     "text": [
      "/home/putus/anaconda3/lib/python3.5/site-packages/ipykernel/__main__.py:6: SettingWithCopyWarning:\n",
      "\n",
      "\n",
      "A value is trying to be set on a copy of a slice from a DataFrame\n",
      "\n",
      "See the caveats in the documentation: http://pandas.pydata.org/pandas-docs/stable/indexing.html#indexing-view-versus-copy\n",
      "\n"
     ]
    }
   ],
   "source": [
    "IB = pd.read_csv(\"india-bowling.csv\")\n",
    "dnd = np.array(IB[\"Overs\"])\n",
    "pos=np.squeeze(np.where(dnd==\"DNB\"))\n",
    "ndf=IB[0:pos[0]]\n",
    "ndf.head(5)\n",
    "ndf.drop(['Player Link'], axis = 1, inplace = True)"
   ]
  },
  {
   "cell_type": "code",
   "execution_count": 24,
   "metadata": {},
   "outputs": [
    {
     "data": {
      "text/html": [
       "<div>\n",
       "<style>\n",
       "    .dataframe thead tr:only-child th {\n",
       "        text-align: right;\n",
       "    }\n",
       "\n",
       "    .dataframe thead th {\n",
       "        text-align: left;\n",
       "    }\n",
       "\n",
       "    .dataframe tbody tr th {\n",
       "        vertical-align: top;\n",
       "    }\n",
       "</style>\n",
       "<table border=\"1\" class=\"dataframe\">\n",
       "  <thead>\n",
       "    <tr style=\"text-align: right;\">\n",
       "      <th></th>\n",
       "      <th>Player</th>\n",
       "      <th>Maidens</th>\n",
       "      <th>Overs</th>\n",
       "      <th>Runs</th>\n",
       "      <th>Wickets</th>\n",
       "      <th>Economy</th>\n",
       "      <th>Inns</th>\n",
       "      <th>Opposition</th>\n",
       "      <th>Ground</th>\n",
       "      <th>Start Date</th>\n",
       "    </tr>\n",
       "  </thead>\n",
       "  <tbody>\n",
       "    <tr>\n",
       "      <th>0</th>\n",
       "      <td>A Mishra</td>\n",
       "      <td>2</td>\n",
       "      <td>6.0</td>\n",
       "      <td>18</td>\n",
       "      <td>5</td>\n",
       "      <td>3.00</td>\n",
       "      <td>2</td>\n",
       "      <td>New Zealand</td>\n",
       "      <td>Visakhapatnam</td>\n",
       "      <td>29 Oct 2016</td>\n",
       "    </tr>\n",
       "    <tr>\n",
       "      <th>1</th>\n",
       "      <td>JJ Bumrah</td>\n",
       "      <td>2</td>\n",
       "      <td>10.0</td>\n",
       "      <td>27</td>\n",
       "      <td>5</td>\n",
       "      <td>2.70</td>\n",
       "      <td>1</td>\n",
       "      <td>Sri Lanka</td>\n",
       "      <td>Pallekele</td>\n",
       "      <td>27 Aug 2017</td>\n",
       "    </tr>\n",
       "    <tr>\n",
       "      <th>2</th>\n",
       "      <td>B Kumar</td>\n",
       "      <td>0</td>\n",
       "      <td>9.4</td>\n",
       "      <td>42</td>\n",
       "      <td>5</td>\n",
       "      <td>4.34</td>\n",
       "      <td>1</td>\n",
       "      <td>Sri Lanka</td>\n",
       "      <td>Colombo (RPS)</td>\n",
       "      <td>3 Sep 2017</td>\n",
       "    </tr>\n",
       "    <tr>\n",
       "      <th>3</th>\n",
       "      <td>JJ Bumrah</td>\n",
       "      <td>1</td>\n",
       "      <td>10.0</td>\n",
       "      <td>22</td>\n",
       "      <td>4</td>\n",
       "      <td>2.20</td>\n",
       "      <td>1</td>\n",
       "      <td>Zimbabwe</td>\n",
       "      <td>Harare</td>\n",
       "      <td>15 Jun 2016</td>\n",
       "    </tr>\n",
       "    <tr>\n",
       "      <th>4</th>\n",
       "      <td>R Ashwin</td>\n",
       "      <td>1</td>\n",
       "      <td>10.0</td>\n",
       "      <td>25</td>\n",
       "      <td>4</td>\n",
       "      <td>2.50</td>\n",
       "      <td>1</td>\n",
       "      <td>U.A.E.</td>\n",
       "      <td>Perth</td>\n",
       "      <td>28 Feb 2015</td>\n",
       "    </tr>\n",
       "  </tbody>\n",
       "</table>\n",
       "</div>"
      ],
      "text/plain": [
       "      Player Maidens Overs Runs Wickets Economy Inns   Opposition  \\\n",
       "0   A Mishra       2   6.0   18       5    3.00    2  New Zealand   \n",
       "1  JJ Bumrah       2  10.0   27       5    2.70    1    Sri Lanka   \n",
       "2    B Kumar       0   9.4   42       5    4.34    1    Sri Lanka   \n",
       "3  JJ Bumrah       1  10.0   22       4    2.20    1     Zimbabwe   \n",
       "4   R Ashwin       1  10.0   25       4    2.50    1       U.A.E.   \n",
       "\n",
       "          Ground   Start Date  \n",
       "0  Visakhapatnam  29 Oct 2016  \n",
       "1      Pallekele  27 Aug 2017  \n",
       "2  Colombo (RPS)   3 Sep 2017  \n",
       "3         Harare  15 Jun 2016  \n",
       "4          Perth  28 Feb 2015  "
      ]
     },
     "execution_count": 24,
     "metadata": {},
     "output_type": "execute_result"
    }
   ],
   "source": [
    "ndf.head(5)"
   ]
  },
  {
   "cell_type": "code",
   "execution_count": 25,
   "metadata": {
    "collapsed": true
   },
   "outputs": [],
   "source": [
    "# add extra column runs/wicket for every player"
   ]
  },
  {
   "cell_type": "code",
   "execution_count": 26,
   "metadata": {
    "scrolled": false
   },
   "outputs": [
    {
     "name": "stderr",
     "output_type": "stream",
     "text": [
      "/home/putus/anaconda3/lib/python3.5/site-packages/ipykernel/__main__.py:5: RuntimeWarning:\n",
      "\n",
      "divide by zero encountered in true_divide\n",
      "\n"
     ]
    }
   ],
   "source": [
    "rns = np.array(ndf[\"Runs\"])\n",
    "rns = rns.astype(\"float\")\n",
    "wck = np.array(ndf['Wickets'])\n",
    "wck = wck.astype(\"int\")\n",
    "rnsPwck = rns/wck\n",
    "rnsPwck = pd.DataFrame(rnsPwck,columns=[\"runs/wck\"])"
   ]
  },
  {
   "cell_type": "code",
   "execution_count": 27,
   "metadata": {
    "collapsed": true
   },
   "outputs": [],
   "source": [
    "tb = [ndf,rnsPwck]\n",
    "tb = pd.concat(tb,axis=1)"
   ]
  },
  {
   "cell_type": "code",
   "execution_count": 28,
   "metadata": {},
   "outputs": [
    {
     "data": {
      "text/html": [
       "<div>\n",
       "<style>\n",
       "    .dataframe thead tr:only-child th {\n",
       "        text-align: right;\n",
       "    }\n",
       "\n",
       "    .dataframe thead th {\n",
       "        text-align: left;\n",
       "    }\n",
       "\n",
       "    .dataframe tbody tr th {\n",
       "        vertical-align: top;\n",
       "    }\n",
       "</style>\n",
       "<table border=\"1\" class=\"dataframe\">\n",
       "  <thead>\n",
       "    <tr style=\"text-align: right;\">\n",
       "      <th></th>\n",
       "      <th>Player</th>\n",
       "      <th>Maidens</th>\n",
       "      <th>Overs</th>\n",
       "      <th>Runs</th>\n",
       "      <th>Wickets</th>\n",
       "      <th>Economy</th>\n",
       "      <th>Inns</th>\n",
       "      <th>Opposition</th>\n",
       "      <th>Ground</th>\n",
       "      <th>Start Date</th>\n",
       "      <th>runs/wck</th>\n",
       "    </tr>\n",
       "  </thead>\n",
       "  <tbody>\n",
       "    <tr>\n",
       "      <th>0</th>\n",
       "      <td>A Mishra</td>\n",
       "      <td>2</td>\n",
       "      <td>6.0</td>\n",
       "      <td>18</td>\n",
       "      <td>5</td>\n",
       "      <td>3.00</td>\n",
       "      <td>2</td>\n",
       "      <td>New Zealand</td>\n",
       "      <td>Visakhapatnam</td>\n",
       "      <td>29 Oct 2016</td>\n",
       "      <td>3.60</td>\n",
       "    </tr>\n",
       "    <tr>\n",
       "      <th>1</th>\n",
       "      <td>JJ Bumrah</td>\n",
       "      <td>2</td>\n",
       "      <td>10.0</td>\n",
       "      <td>27</td>\n",
       "      <td>5</td>\n",
       "      <td>2.70</td>\n",
       "      <td>1</td>\n",
       "      <td>Sri Lanka</td>\n",
       "      <td>Pallekele</td>\n",
       "      <td>27 Aug 2017</td>\n",
       "      <td>5.40</td>\n",
       "    </tr>\n",
       "    <tr>\n",
       "      <th>2</th>\n",
       "      <td>B Kumar</td>\n",
       "      <td>0</td>\n",
       "      <td>9.4</td>\n",
       "      <td>42</td>\n",
       "      <td>5</td>\n",
       "      <td>4.34</td>\n",
       "      <td>1</td>\n",
       "      <td>Sri Lanka</td>\n",
       "      <td>Colombo (RPS)</td>\n",
       "      <td>3 Sep 2017</td>\n",
       "      <td>8.40</td>\n",
       "    </tr>\n",
       "    <tr>\n",
       "      <th>3</th>\n",
       "      <td>JJ Bumrah</td>\n",
       "      <td>1</td>\n",
       "      <td>10.0</td>\n",
       "      <td>22</td>\n",
       "      <td>4</td>\n",
       "      <td>2.20</td>\n",
       "      <td>1</td>\n",
       "      <td>Zimbabwe</td>\n",
       "      <td>Harare</td>\n",
       "      <td>15 Jun 2016</td>\n",
       "      <td>5.50</td>\n",
       "    </tr>\n",
       "    <tr>\n",
       "      <th>4</th>\n",
       "      <td>R Ashwin</td>\n",
       "      <td>1</td>\n",
       "      <td>10.0</td>\n",
       "      <td>25</td>\n",
       "      <td>4</td>\n",
       "      <td>2.50</td>\n",
       "      <td>1</td>\n",
       "      <td>U.A.E.</td>\n",
       "      <td>Perth</td>\n",
       "      <td>28 Feb 2015</td>\n",
       "      <td>6.25</td>\n",
       "    </tr>\n",
       "  </tbody>\n",
       "</table>\n",
       "</div>"
      ],
      "text/plain": [
       "      Player Maidens Overs Runs Wickets Economy Inns   Opposition  \\\n",
       "0   A Mishra       2   6.0   18       5    3.00    2  New Zealand   \n",
       "1  JJ Bumrah       2  10.0   27       5    2.70    1    Sri Lanka   \n",
       "2    B Kumar       0   9.4   42       5    4.34    1    Sri Lanka   \n",
       "3  JJ Bumrah       1  10.0   22       4    2.20    1     Zimbabwe   \n",
       "4   R Ashwin       1  10.0   25       4    2.50    1       U.A.E.   \n",
       "\n",
       "          Ground   Start Date  runs/wck  \n",
       "0  Visakhapatnam  29 Oct 2016      3.60  \n",
       "1      Pallekele  27 Aug 2017      5.40  \n",
       "2  Colombo (RPS)   3 Sep 2017      8.40  \n",
       "3         Harare  15 Jun 2016      5.50  \n",
       "4          Perth  28 Feb 2015      6.25  "
      ]
     },
     "execution_count": 28,
     "metadata": {},
     "output_type": "execute_result"
    }
   ],
   "source": [
    "tb.head(5)"
   ]
  },
  {
   "cell_type": "code",
   "execution_count": 29,
   "metadata": {},
   "outputs": [
    {
     "data": {
      "text/plain": [
       "Index(['Player', 'Maidens', 'Overs', 'Runs', 'Wickets', 'Economy', 'Inns',\n",
       "       'Opposition', 'Ground', 'Start Date', 'runs/wck'],\n",
       "      dtype='object')"
      ]
     },
     "execution_count": 29,
     "metadata": {},
     "output_type": "execute_result"
    }
   ],
   "source": [
    "tb.columns"
   ]
  },
  {
   "cell_type": "code",
   "execution_count": 30,
   "metadata": {
    "collapsed": true
   },
   "outputs": [],
   "source": [
    "#  against Australia"
   ]
  },
  {
   "cell_type": "code",
   "execution_count": 31,
   "metadata": {
    "collapsed": true
   },
   "outputs": [],
   "source": [
    "dfAus = tb[tb[\"Opposition\"]==\"Australia\"]"
   ]
  },
  {
   "cell_type": "code",
   "execution_count": 32,
   "metadata": {},
   "outputs": [
    {
     "data": {
      "text/plain": [
       "Index(['Player', 'Maidens', 'Overs', 'Runs', 'Wickets', 'Economy', 'Inns',\n",
       "       'Opposition', 'Ground', 'Start Date', 'runs/wck'],\n",
       "      dtype='object')"
      ]
     },
     "execution_count": 32,
     "metadata": {},
     "output_type": "execute_result"
    }
   ],
   "source": [
    "dfAus = dfAus.reset_index(drop=True)\n",
    "dfAus.columns"
   ]
  },
  {
   "cell_type": "code",
   "execution_count": 33,
   "metadata": {
    "scrolled": true
   },
   "outputs": [
    {
     "data": {
      "text/html": [
       "<div>\n",
       "<style>\n",
       "    .dataframe thead tr:only-child th {\n",
       "        text-align: right;\n",
       "    }\n",
       "\n",
       "    .dataframe thead th {\n",
       "        text-align: left;\n",
       "    }\n",
       "\n",
       "    .dataframe tbody tr th {\n",
       "        vertical-align: top;\n",
       "    }\n",
       "</style>\n",
       "<table border=\"1\" class=\"dataframe\">\n",
       "  <thead>\n",
       "    <tr style=\"text-align: right;\">\n",
       "      <th></th>\n",
       "      <th>Player</th>\n",
       "      <th>Maidens</th>\n",
       "      <th>Overs</th>\n",
       "      <th>Runs</th>\n",
       "      <th>Wickets</th>\n",
       "      <th>Economy</th>\n",
       "      <th>Inns</th>\n",
       "      <th>Opposition</th>\n",
       "      <th>Ground</th>\n",
       "      <th>Start Date</th>\n",
       "      <th>runs/wck</th>\n",
       "    </tr>\n",
       "  </thead>\n",
       "  <tbody>\n",
       "    <tr>\n",
       "      <th>0</th>\n",
       "      <td>UT Yadav</td>\n",
       "      <td>0</td>\n",
       "      <td>9.0</td>\n",
       "      <td>72</td>\n",
       "      <td>4</td>\n",
       "      <td>8.00</td>\n",
       "      <td>1</td>\n",
       "      <td>Australia</td>\n",
       "      <td>Sydney</td>\n",
       "      <td>26 Mar 2015</td>\n",
       "      <td>18.000000</td>\n",
       "    </tr>\n",
       "    <tr>\n",
       "      <th>1</th>\n",
       "      <td>I Sharma</td>\n",
       "      <td>0</td>\n",
       "      <td>10.0</td>\n",
       "      <td>77</td>\n",
       "      <td>4</td>\n",
       "      <td>7.70</td>\n",
       "      <td>1</td>\n",
       "      <td>Australia</td>\n",
       "      <td>Canberra</td>\n",
       "      <td>20 Jan 2016</td>\n",
       "      <td>19.250000</td>\n",
       "    </tr>\n",
       "    <tr>\n",
       "      <th>2</th>\n",
       "      <td>YS Chahal</td>\n",
       "      <td>0</td>\n",
       "      <td>5.0</td>\n",
       "      <td>30</td>\n",
       "      <td>3</td>\n",
       "      <td>6.00</td>\n",
       "      <td>2</td>\n",
       "      <td>Australia</td>\n",
       "      <td>Chennai</td>\n",
       "      <td>17 Sep 2017</td>\n",
       "      <td>10.000000</td>\n",
       "    </tr>\n",
       "    <tr>\n",
       "      <th>3</th>\n",
       "      <td>BB Sran</td>\n",
       "      <td>0</td>\n",
       "      <td>9.2</td>\n",
       "      <td>56</td>\n",
       "      <td>3</td>\n",
       "      <td>6.00</td>\n",
       "      <td>2</td>\n",
       "      <td>Australia</td>\n",
       "      <td>Perth</td>\n",
       "      <td>12 Jan 2016</td>\n",
       "      <td>18.666667</td>\n",
       "    </tr>\n",
       "    <tr>\n",
       "      <th>4</th>\n",
       "      <td>UT Yadav</td>\n",
       "      <td>1</td>\n",
       "      <td>10.0</td>\n",
       "      <td>67</td>\n",
       "      <td>3</td>\n",
       "      <td>6.70</td>\n",
       "      <td>1</td>\n",
       "      <td>Australia</td>\n",
       "      <td>Canberra</td>\n",
       "      <td>20 Jan 2016</td>\n",
       "      <td>22.333333</td>\n",
       "    </tr>\n",
       "  </tbody>\n",
       "</table>\n",
       "</div>"
      ],
      "text/plain": [
       "      Player Maidens Overs Runs Wickets Economy Inns Opposition    Ground  \\\n",
       "0   UT Yadav       0   9.0   72       4    8.00    1  Australia    Sydney   \n",
       "1   I Sharma       0  10.0   77       4    7.70    1  Australia  Canberra   \n",
       "2  YS Chahal       0   5.0   30       3    6.00    2  Australia   Chennai   \n",
       "3    BB Sran       0   9.2   56       3    6.00    2  Australia     Perth   \n",
       "4   UT Yadav       1  10.0   67       3    6.70    1  Australia  Canberra   \n",
       "\n",
       "    Start Date   runs/wck  \n",
       "0  26 Mar 2015  18.000000  \n",
       "1  20 Jan 2016  19.250000  \n",
       "2  17 Sep 2017  10.000000  \n",
       "3  12 Jan 2016  18.666667  \n",
       "4  20 Jan 2016  22.333333  "
      ]
     },
     "execution_count": 33,
     "metadata": {},
     "output_type": "execute_result"
    }
   ],
   "source": [
    "dfAus.head(5)"
   ]
  },
  {
   "cell_type": "code",
   "execution_count": 34,
   "metadata": {},
   "outputs": [
    {
     "data": {
      "text/plain": [
       "array([27, 28, 29, 30, 31, 32, 33, 34, 35, 36, 37, 38, 39, 40, 41, 42, 43,\n",
       "       44, 45, 46, 47])"
      ]
     },
     "execution_count": 34,
     "metadata": {},
     "output_type": "execute_result"
    }
   ],
   "source": [
    "# remove inf\n",
    "px = np.squeeze(np.where(dfAus[\"runs/wck\"]==np.inf))\n",
    "px"
   ]
  },
  {
   "cell_type": "code",
   "execution_count": 35,
   "metadata": {},
   "outputs": [
    {
     "data": {
      "text/html": [
       "<div>\n",
       "<style>\n",
       "    .dataframe thead tr:only-child th {\n",
       "        text-align: right;\n",
       "    }\n",
       "\n",
       "    .dataframe thead th {\n",
       "        text-align: left;\n",
       "    }\n",
       "\n",
       "    .dataframe tbody tr th {\n",
       "        vertical-align: top;\n",
       "    }\n",
       "</style>\n",
       "<table border=\"1\" class=\"dataframe\">\n",
       "  <thead>\n",
       "    <tr style=\"text-align: right;\">\n",
       "      <th></th>\n",
       "      <th>Player</th>\n",
       "      <th>Maidens</th>\n",
       "      <th>Overs</th>\n",
       "      <th>Runs</th>\n",
       "      <th>Wickets</th>\n",
       "      <th>Economy</th>\n",
       "      <th>Inns</th>\n",
       "      <th>Opposition</th>\n",
       "      <th>Ground</th>\n",
       "      <th>Start Date</th>\n",
       "      <th>runs/wck</th>\n",
       "    </tr>\n",
       "  </thead>\n",
       "  <tbody>\n",
       "    <tr>\n",
       "      <th>0</th>\n",
       "      <td>UT Yadav</td>\n",
       "      <td>0</td>\n",
       "      <td>9.0</td>\n",
       "      <td>72</td>\n",
       "      <td>4</td>\n",
       "      <td>8.00</td>\n",
       "      <td>1</td>\n",
       "      <td>Australia</td>\n",
       "      <td>Sydney</td>\n",
       "      <td>26 Mar 2015</td>\n",
       "      <td>18.000000</td>\n",
       "    </tr>\n",
       "    <tr>\n",
       "      <th>1</th>\n",
       "      <td>I Sharma</td>\n",
       "      <td>0</td>\n",
       "      <td>10.0</td>\n",
       "      <td>77</td>\n",
       "      <td>4</td>\n",
       "      <td>7.70</td>\n",
       "      <td>1</td>\n",
       "      <td>Australia</td>\n",
       "      <td>Canberra</td>\n",
       "      <td>20 Jan 2016</td>\n",
       "      <td>19.250000</td>\n",
       "    </tr>\n",
       "    <tr>\n",
       "      <th>2</th>\n",
       "      <td>YS Chahal</td>\n",
       "      <td>0</td>\n",
       "      <td>5.0</td>\n",
       "      <td>30</td>\n",
       "      <td>3</td>\n",
       "      <td>6.00</td>\n",
       "      <td>2</td>\n",
       "      <td>Australia</td>\n",
       "      <td>Chennai</td>\n",
       "      <td>17 Sep 2017</td>\n",
       "      <td>10.000000</td>\n",
       "    </tr>\n",
       "    <tr>\n",
       "      <th>3</th>\n",
       "      <td>BB Sran</td>\n",
       "      <td>0</td>\n",
       "      <td>9.2</td>\n",
       "      <td>56</td>\n",
       "      <td>3</td>\n",
       "      <td>6.00</td>\n",
       "      <td>2</td>\n",
       "      <td>Australia</td>\n",
       "      <td>Perth</td>\n",
       "      <td>12 Jan 2016</td>\n",
       "      <td>18.666667</td>\n",
       "    </tr>\n",
       "    <tr>\n",
       "      <th>4</th>\n",
       "      <td>UT Yadav</td>\n",
       "      <td>1</td>\n",
       "      <td>10.0</td>\n",
       "      <td>67</td>\n",
       "      <td>3</td>\n",
       "      <td>6.70</td>\n",
       "      <td>1</td>\n",
       "      <td>Australia</td>\n",
       "      <td>Canberra</td>\n",
       "      <td>20 Jan 2016</td>\n",
       "      <td>22.333333</td>\n",
       "    </tr>\n",
       "  </tbody>\n",
       "</table>\n",
       "</div>"
      ],
      "text/plain": [
       "      Player Maidens Overs Runs Wickets Economy Inns Opposition    Ground  \\\n",
       "0   UT Yadav       0   9.0   72       4    8.00    1  Australia    Sydney   \n",
       "1   I Sharma       0  10.0   77       4    7.70    1  Australia  Canberra   \n",
       "2  YS Chahal       0   5.0   30       3    6.00    2  Australia   Chennai   \n",
       "3    BB Sran       0   9.2   56       3    6.00    2  Australia     Perth   \n",
       "4   UT Yadav       1  10.0   67       3    6.70    1  Australia  Canberra   \n",
       "\n",
       "    Start Date   runs/wck  \n",
       "0  26 Mar 2015  18.000000  \n",
       "1  20 Jan 2016  19.250000  \n",
       "2  17 Sep 2017  10.000000  \n",
       "3  12 Jan 2016  18.666667  \n",
       "4  20 Jan 2016  22.333333  "
      ]
     },
     "execution_count": 35,
     "metadata": {},
     "output_type": "execute_result"
    }
   ],
   "source": [
    "dfAusX = dfAus[0:px[0]]\n",
    "dfAusX.head(5)"
   ]
  },
  {
   "cell_type": "code",
   "execution_count": 36,
   "metadata": {},
   "outputs": [
    {
     "data": {
      "text/plain": [
       "array(['UT Yadav', 'I Sharma', 'YS Chahal', 'BB Sran', 'HH Pandya',\n",
       "       'Kuldeep Yadav', 'JJ Bumrah', 'RA Jadeja', 'R Ashwin', 'MM Sharma',\n",
       "       'B Kumar', 'Mohammed Shami', 'AR Patel', 'R Dhawan'], dtype=object)"
      ]
     },
     "execution_count": 36,
     "metadata": {},
     "output_type": "execute_result"
    }
   ],
   "source": [
    "playername = dfAusX.Player.unique()\n",
    "playername"
   ]
  },
  {
   "cell_type": "code",
   "execution_count": 37,
   "metadata": {
    "collapsed": true
   },
   "outputs": [],
   "source": [
    "def PlayerWicketPerOver(p):\n",
    "    tmpPlayer         = dfAusX[dfAusX[\"Player\"]==p]\n",
    "    tmpPlayer         = tmpPlayer.reset_index(drop=True)\n",
    "    maxrunPwck        = np.max(np.array(tmpPlayer[\"runs/wck\"]))\n",
    "    totalrunPwck      = sum(np.array(tmpPlayer[\"runs/wck\"]))\n",
    "    return (maxrunPwck,totalrunPwck)"
   ]
  },
  {
   "cell_type": "code",
   "execution_count": 38,
   "metadata": {
    "collapsed": true
   },
   "outputs": [],
   "source": [
    "tbx=[]\n",
    "for i in playername:\n",
    "    [mxrpwck,wrpwck] = PlayerWicketPerOver(i)\n",
    "    tbx.append([i,mxrpwck,wrpwck])"
   ]
  },
  {
   "cell_type": "code",
   "execution_count": 39,
   "metadata": {},
   "outputs": [
    {
     "data": {
      "text/html": [
       "<div>\n",
       "<style>\n",
       "    .dataframe thead tr:only-child th {\n",
       "        text-align: right;\n",
       "    }\n",
       "\n",
       "    .dataframe thead th {\n",
       "        text-align: left;\n",
       "    }\n",
       "\n",
       "    .dataframe tbody tr th {\n",
       "        vertical-align: top;\n",
       "    }\n",
       "</style>\n",
       "<table border=\"1\" class=\"dataframe\">\n",
       "  <thead>\n",
       "    <tr style=\"text-align: right;\">\n",
       "      <th></th>\n",
       "      <th>player_name</th>\n",
       "      <th>max_runs/wicket</th>\n",
       "      <th>total_runs/wicket</th>\n",
       "    </tr>\n",
       "  </thead>\n",
       "  <tbody>\n",
       "    <tr>\n",
       "      <th>0</th>\n",
       "      <td>UT Yadav</td>\n",
       "      <td>82.000000</td>\n",
       "      <td>257.833333</td>\n",
       "    </tr>\n",
       "    <tr>\n",
       "      <th>1</th>\n",
       "      <td>I Sharma</td>\n",
       "      <td>60.000000</td>\n",
       "      <td>135.750000</td>\n",
       "    </tr>\n",
       "    <tr>\n",
       "      <th>2</th>\n",
       "      <td>YS Chahal</td>\n",
       "      <td>10.000000</td>\n",
       "      <td>10.000000</td>\n",
       "    </tr>\n",
       "    <tr>\n",
       "      <th>3</th>\n",
       "      <td>BB Sran</td>\n",
       "      <td>18.666667</td>\n",
       "      <td>18.666667</td>\n",
       "    </tr>\n",
       "    <tr>\n",
       "      <th>4</th>\n",
       "      <td>HH Pandya</td>\n",
       "      <td>14.000000</td>\n",
       "      <td>14.000000</td>\n",
       "    </tr>\n",
       "  </tbody>\n",
       "</table>\n",
       "</div>"
      ],
      "text/plain": [
       "  player_name  max_runs/wicket  total_runs/wicket\n",
       "0    UT Yadav        82.000000         257.833333\n",
       "1    I Sharma        60.000000         135.750000\n",
       "2   YS Chahal        10.000000          10.000000\n",
       "3     BB Sran        18.666667          18.666667\n",
       "4   HH Pandya        14.000000          14.000000"
      ]
     },
     "execution_count": 39,
     "metadata": {},
     "output_type": "execute_result"
    }
   ],
   "source": [
    "dfw = pd.DataFrame(tbx,columns=['player_name','max_runs/wicket','total_runs/wicket'])\n",
    "dfw.head(5)"
   ]
  },
  {
   "cell_type": "code",
   "execution_count": 40,
   "metadata": {
    "collapsed": true
   },
   "outputs": [],
   "source": [
    "def visualize(d1,d2,title,ylb):\n",
    "    data = [go.Bar(\n",
    "            x=np.array(dfw[d1]),\n",
    "            y=np.array(dfw[d2])\n",
    "            \n",
    "    )]\n",
    "\n",
    "    layout = go.Layout(\n",
    "    \n",
    "            title=title,\n",
    "            xaxis=dict(\n",
    "            title='Players_name',\n",
    "            titlefont=dict(\n",
    "            family='Courier New, monospace',\n",
    "                size=18,\n",
    "                color='#7f7f7f'\n",
    "            )\n",
    "        ),\n",
    "        yaxis=dict(\n",
    "            title=ylb,\n",
    "            titlefont=dict(\n",
    "            family='Courier New, monospace',\n",
    "            size=18,\n",
    "            color='#7f7f7f'\n",
    "            )\n",
    "        )\n",
    "    )\n",
    "    \n",
    "    return (data,layout)"
   ]
  },
  {
   "cell_type": "code",
   "execution_count": 41,
   "metadata": {},
   "outputs": [
    {
     "name": "stdout",
     "output_type": "stream",
     "text": [
      "High five! You successfully sent some data to your account on plotly. View your plot in your browser at https://plot.ly/~ayon.mi1/0 or inside your plot.ly account where it is named 'basic-bar'\n"
     ]
    },
    {
     "data": {
      "text/html": [
       "<iframe id=\"igraph\" scrolling=\"no\" style=\"border:none;\" seamless=\"seamless\" src=\"https://plot.ly/~ayon.mi1/0.embed\" height=\"525px\" width=\"100%\"></iframe>"
      ],
      "text/plain": [
       "<plotly.tools.PlotlyDisplay object>"
      ]
     },
     "execution_count": 41,
     "metadata": {},
     "output_type": "execute_result"
    }
   ],
   "source": [
    "[data,layout]=visualize('player_name',\"max_runs/wicket\",'max runs/wicket Vs Australia',\"maximum runs/wicket\")\n",
    "fig = go.Figure(data=data, layout=layout)\n",
    "py.iplot(fig, filename='basic-bar')"
   ]
  },
  {
   "cell_type": "code",
   "execution_count": 43,
   "metadata": {},
   "outputs": [
    {
     "data": {
      "image/png": "[encoded data removed]",
      "text/plain": [
       "<IPython.core.display.Image object>"
      ]
     },
     "execution_count": 43,
     "metadata": {},
     "output_type": "execute_result"
    }
   ],
   "source": [
    "from IPython.display import Image\n",
    "Image(filename='f3.png')"
   ]
  },
  {
   "cell_type": "code",
   "execution_count": 42,
   "metadata": {},
   "outputs": [
    {
     "name": "stdout",
     "output_type": "stream",
     "text": [
      "High five! You successfully sent some data to your account on plotly. View your plot in your browser at https://plot.ly/~ayon.mi1/0 or inside your plot.ly account where it is named 'basic-bar'\n"
     ]
    },
    {
     "data": {
      "text/html": [
       "<iframe id=\"igraph\" scrolling=\"no\" style=\"border:none;\" seamless=\"seamless\" src=\"https://plot.ly/~ayon.mi1/0.embed\" height=\"525px\" width=\"100%\"></iframe>"
      ],
      "text/plain": [
       "<plotly.tools.PlotlyDisplay object>"
      ]
     },
     "execution_count": 42,
     "metadata": {},
     "output_type": "execute_result"
    }
   ],
   "source": [
    "[data,layout]=visualize('player_name',\"total_runs/wicket\",'Total runs/wicket Vs Australia',\"total runs/wicket\")\n",
    "fig = go.Figure(data=data, layout=layout)\n",
    "py.iplot(fig, filename='basic-bar')"
   ]
  },
  {
   "cell_type": "code",
   "execution_count": 44,
   "metadata": {},
   "outputs": [
    {
     "data": {
      "image/png": "[encoded data removed]",
      "text/plain": [
       "<IPython.core.display.Image object>"
      ]
     },
     "execution_count": 44,
     "metadata": {},
     "output_type": "execute_result"
    }
   ],
   "source": [
    "from IPython.display import Image\n",
    "Image(filename='f4.png')"
   ]
  },
  {
   "cell_type": "markdown",
   "metadata": {},
   "source": [
    "# Australia's Best bolwers against India"
   ]
  },
  {
   "cell_type": "code",
   "execution_count": 136,
   "metadata": {},
   "outputs": [
    {
     "name": "stderr",
     "output_type": "stream",
     "text": [
      "/home/putus/anaconda3/lib/python3.5/site-packages/ipykernel/__main__.py:6: SettingWithCopyWarning:\n",
      "\n",
      "\n",
      "A value is trying to be set on a copy of a slice from a DataFrame\n",
      "\n",
      "See the caveats in the documentation: http://pandas.pydata.org/pandas-docs/stable/indexing.html#indexing-view-versus-copy\n",
      "\n"
     ]
    }
   ],
   "source": [
    "Au  = pd.read_csv(\"australia-bowling.csv\")\n",
    "dnd = np.array(Au[\"Overs\"])\n",
    "pos = np.squeeze(np.where(dnd==\"DNB\"))\n",
    "adf = Au[0:pos[0]]\n",
    "adf.head(5)\n",
    "adf.drop(['Player Link'], axis = 1, inplace = True)"
   ]
  },
  {
   "cell_type": "code",
   "execution_count": 137,
   "metadata": {},
   "outputs": [
    {
     "data": {
      "text/html": [
       "<div>\n",
       "<style>\n",
       "    .dataframe thead tr:only-child th {\n",
       "        text-align: right;\n",
       "    }\n",
       "\n",
       "    .dataframe thead th {\n",
       "        text-align: left;\n",
       "    }\n",
       "\n",
       "    .dataframe tbody tr th {\n",
       "        vertical-align: top;\n",
       "    }\n",
       "</style>\n",
       "<table border=\"1\" class=\"dataframe\">\n",
       "  <thead>\n",
       "    <tr style=\"text-align: right;\">\n",
       "      <th></th>\n",
       "      <th>Player</th>\n",
       "      <th>Maidens</th>\n",
       "      <th>Overs</th>\n",
       "      <th>Runs</th>\n",
       "      <th>Wickets</th>\n",
       "      <th>Economy</th>\n",
       "      <th>Inns</th>\n",
       "      <th>Opposition</th>\n",
       "      <th>Ground</th>\n",
       "      <th>Start Date</th>\n",
       "    </tr>\n",
       "  </thead>\n",
       "  <tbody>\n",
       "    <tr>\n",
       "      <th>0</th>\n",
       "      <td>MA Starc</td>\n",
       "      <td>0</td>\n",
       "      <td>9.0</td>\n",
       "      <td>28</td>\n",
       "      <td>6</td>\n",
       "      <td>3.11</td>\n",
       "      <td>2</td>\n",
       "      <td>New Zealand</td>\n",
       "      <td>Auckland</td>\n",
       "      <td>28 Feb 2015</td>\n",
       "    </tr>\n",
       "    <tr>\n",
       "      <th>1</th>\n",
       "      <td>MA Starc</td>\n",
       "      <td>2</td>\n",
       "      <td>10.0</td>\n",
       "      <td>43</td>\n",
       "      <td>6</td>\n",
       "      <td>4.30</td>\n",
       "      <td>1</td>\n",
       "      <td>India</td>\n",
       "      <td>Melbourne</td>\n",
       "      <td>18 Jan 2015</td>\n",
       "    </tr>\n",
       "    <tr>\n",
       "      <th>2</th>\n",
       "      <td>JW Hastings</td>\n",
       "      <td>0</td>\n",
       "      <td>10.0</td>\n",
       "      <td>45</td>\n",
       "      <td>6</td>\n",
       "      <td>4.50</td>\n",
       "      <td>1</td>\n",
       "      <td>Sri Lanka</td>\n",
       "      <td>Dambulla</td>\n",
       "      <td>31 Aug 2016</td>\n",
       "    </tr>\n",
       "    <tr>\n",
       "      <th>3</th>\n",
       "      <td>JR Hazlewood</td>\n",
       "      <td>0</td>\n",
       "      <td>9.0</td>\n",
       "      <td>52</td>\n",
       "      <td>6</td>\n",
       "      <td>5.77</td>\n",
       "      <td>1</td>\n",
       "      <td>New Zealand</td>\n",
       "      <td>Birmingham</td>\n",
       "      <td>2 Jun 2017</td>\n",
       "    </tr>\n",
       "    <tr>\n",
       "      <th>4</th>\n",
       "      <td>MR Marsh</td>\n",
       "      <td>0</td>\n",
       "      <td>9.0</td>\n",
       "      <td>33</td>\n",
       "      <td>5</td>\n",
       "      <td>3.66</td>\n",
       "      <td>2</td>\n",
       "      <td>England</td>\n",
       "      <td>Melbourne</td>\n",
       "      <td>14 Feb 2015</td>\n",
       "    </tr>\n",
       "  </tbody>\n",
       "</table>\n",
       "</div>"
      ],
      "text/plain": [
       "         Player Maidens Overs Runs Wickets Economy  Inns   Opposition  \\\n",
       "0      MA Starc       0   9.0   28       6    3.11     2  New Zealand   \n",
       "1      MA Starc       2  10.0   43       6    4.30     1        India   \n",
       "2   JW Hastings       0  10.0   45       6    4.50     1    Sri Lanka   \n",
       "3  JR Hazlewood       0   9.0   52       6    5.77     1  New Zealand   \n",
       "4      MR Marsh       0   9.0   33       5    3.66     2      England   \n",
       "\n",
       "       Ground   Start Date  \n",
       "0    Auckland  28 Feb 2015  \n",
       "1   Melbourne  18 Jan 2015  \n",
       "2    Dambulla  31 Aug 2016  \n",
       "3  Birmingham   2 Jun 2017  \n",
       "4   Melbourne  14 Feb 2015  "
      ]
     },
     "execution_count": 137,
     "metadata": {},
     "output_type": "execute_result"
    }
   ],
   "source": [
    "adf.head(5)"
   ]
  },
  {
   "cell_type": "code",
   "execution_count": 138,
   "metadata": {
    "collapsed": true
   },
   "outputs": [],
   "source": [
    "# add extra column runs/wicket for every player"
   ]
  },
  {
   "cell_type": "code",
   "execution_count": 139,
   "metadata": {},
   "outputs": [
    {
     "name": "stderr",
     "output_type": "stream",
     "text": [
      "/home/putus/anaconda3/lib/python3.5/site-packages/ipykernel/__main__.py:5: RuntimeWarning:\n",
      "\n",
      "divide by zero encountered in true_divide\n",
      "\n"
     ]
    }
   ],
   "source": [
    "Arns = np.array(adf[\"Runs\"])\n",
    "Arns = Arns.astype(\"float\")\n",
    "Awck = np.array(adf['Wickets'])\n",
    "Awck = Awck.astype(\"int\")\n",
    "ArnsPwck = Arns/Awck\n",
    "ArnsPwck = pd.DataFrame(ArnsPwck,columns=[\"runs/wck\"])"
   ]
  },
  {
   "cell_type": "code",
   "execution_count": 140,
   "metadata": {
    "collapsed": true
   },
   "outputs": [],
   "source": [
    "Atb = [adf,ArnsPwck]\n",
    "Atb = pd.concat(Atb,axis=1)"
   ]
  },
  {
   "cell_type": "code",
   "execution_count": 141,
   "metadata": {},
   "outputs": [
    {
     "data": {
      "text/html": [
       "<div>\n",
       "<style>\n",
       "    .dataframe thead tr:only-child th {\n",
       "        text-align: right;\n",
       "    }\n",
       "\n",
       "    .dataframe thead th {\n",
       "        text-align: left;\n",
       "    }\n",
       "\n",
       "    .dataframe tbody tr th {\n",
       "        vertical-align: top;\n",
       "    }\n",
       "</style>\n",
       "<table border=\"1\" class=\"dataframe\">\n",
       "  <thead>\n",
       "    <tr style=\"text-align: right;\">\n",
       "      <th></th>\n",
       "      <th>Player</th>\n",
       "      <th>Maidens</th>\n",
       "      <th>Overs</th>\n",
       "      <th>Runs</th>\n",
       "      <th>Wickets</th>\n",
       "      <th>Economy</th>\n",
       "      <th>Inns</th>\n",
       "      <th>Opposition</th>\n",
       "      <th>Ground</th>\n",
       "      <th>Start Date</th>\n",
       "      <th>runs/wck</th>\n",
       "    </tr>\n",
       "  </thead>\n",
       "  <tbody>\n",
       "    <tr>\n",
       "      <th>0</th>\n",
       "      <td>MA Starc</td>\n",
       "      <td>0</td>\n",
       "      <td>9.0</td>\n",
       "      <td>28</td>\n",
       "      <td>6</td>\n",
       "      <td>3.11</td>\n",
       "      <td>2</td>\n",
       "      <td>New Zealand</td>\n",
       "      <td>Auckland</td>\n",
       "      <td>28 Feb 2015</td>\n",
       "      <td>4.666667</td>\n",
       "    </tr>\n",
       "    <tr>\n",
       "      <th>1</th>\n",
       "      <td>MA Starc</td>\n",
       "      <td>2</td>\n",
       "      <td>10.0</td>\n",
       "      <td>43</td>\n",
       "      <td>6</td>\n",
       "      <td>4.30</td>\n",
       "      <td>1</td>\n",
       "      <td>India</td>\n",
       "      <td>Melbourne</td>\n",
       "      <td>18 Jan 2015</td>\n",
       "      <td>7.166667</td>\n",
       "    </tr>\n",
       "    <tr>\n",
       "      <th>2</th>\n",
       "      <td>JW Hastings</td>\n",
       "      <td>0</td>\n",
       "      <td>10.0</td>\n",
       "      <td>45</td>\n",
       "      <td>6</td>\n",
       "      <td>4.50</td>\n",
       "      <td>1</td>\n",
       "      <td>Sri Lanka</td>\n",
       "      <td>Dambulla</td>\n",
       "      <td>31 Aug 2016</td>\n",
       "      <td>7.500000</td>\n",
       "    </tr>\n",
       "    <tr>\n",
       "      <th>3</th>\n",
       "      <td>JR Hazlewood</td>\n",
       "      <td>0</td>\n",
       "      <td>9.0</td>\n",
       "      <td>52</td>\n",
       "      <td>6</td>\n",
       "      <td>5.77</td>\n",
       "      <td>1</td>\n",
       "      <td>New Zealand</td>\n",
       "      <td>Birmingham</td>\n",
       "      <td>2 Jun 2017</td>\n",
       "      <td>8.666667</td>\n",
       "    </tr>\n",
       "    <tr>\n",
       "      <th>4</th>\n",
       "      <td>MR Marsh</td>\n",
       "      <td>0</td>\n",
       "      <td>9.0</td>\n",
       "      <td>33</td>\n",
       "      <td>5</td>\n",
       "      <td>3.66</td>\n",
       "      <td>2</td>\n",
       "      <td>England</td>\n",
       "      <td>Melbourne</td>\n",
       "      <td>14 Feb 2015</td>\n",
       "      <td>6.600000</td>\n",
       "    </tr>\n",
       "  </tbody>\n",
       "</table>\n",
       "</div>"
      ],
      "text/plain": [
       "         Player Maidens Overs Runs Wickets Economy  Inns   Opposition  \\\n",
       "0      MA Starc       0   9.0   28       6    3.11     2  New Zealand   \n",
       "1      MA Starc       2  10.0   43       6    4.30     1        India   \n",
       "2   JW Hastings       0  10.0   45       6    4.50     1    Sri Lanka   \n",
       "3  JR Hazlewood       0   9.0   52       6    5.77     1  New Zealand   \n",
       "4      MR Marsh       0   9.0   33       5    3.66     2      England   \n",
       "\n",
       "       Ground   Start Date  runs/wck  \n",
       "0    Auckland  28 Feb 2015  4.666667  \n",
       "1   Melbourne  18 Jan 2015  7.166667  \n",
       "2    Dambulla  31 Aug 2016  7.500000  \n",
       "3  Birmingham   2 Jun 2017  8.666667  \n",
       "4   Melbourne  14 Feb 2015  6.600000  "
      ]
     },
     "execution_count": 141,
     "metadata": {},
     "output_type": "execute_result"
    }
   ],
   "source": [
    "Atb.head(5)"
   ]
  },
  {
   "cell_type": "code",
   "execution_count": 142,
   "metadata": {
    "collapsed": true
   },
   "outputs": [],
   "source": [
    "dfInd = Atb[Atb[\"Opposition\"]==\"India\"]"
   ]
  },
  {
   "cell_type": "code",
   "execution_count": 143,
   "metadata": {},
   "outputs": [
    {
     "data": {
      "text/html": [
       "<div>\n",
       "<style>\n",
       "    .dataframe thead tr:only-child th {\n",
       "        text-align: right;\n",
       "    }\n",
       "\n",
       "    .dataframe thead th {\n",
       "        text-align: left;\n",
       "    }\n",
       "\n",
       "    .dataframe tbody tr th {\n",
       "        vertical-align: top;\n",
       "    }\n",
       "</style>\n",
       "<table border=\"1\" class=\"dataframe\">\n",
       "  <thead>\n",
       "    <tr style=\"text-align: right;\">\n",
       "      <th></th>\n",
       "      <th>Player</th>\n",
       "      <th>Maidens</th>\n",
       "      <th>Overs</th>\n",
       "      <th>Runs</th>\n",
       "      <th>Wickets</th>\n",
       "      <th>Economy</th>\n",
       "      <th>Inns</th>\n",
       "      <th>Opposition</th>\n",
       "      <th>Ground</th>\n",
       "      <th>Start Date</th>\n",
       "      <th>runs/wck</th>\n",
       "    </tr>\n",
       "  </thead>\n",
       "  <tbody>\n",
       "    <tr>\n",
       "      <th>1</th>\n",
       "      <td>MA Starc</td>\n",
       "      <td>2</td>\n",
       "      <td>10.0</td>\n",
       "      <td>43</td>\n",
       "      <td>6</td>\n",
       "      <td>4.30</td>\n",
       "      <td>1</td>\n",
       "      <td>India</td>\n",
       "      <td>Melbourne</td>\n",
       "      <td>18 Jan 2015</td>\n",
       "      <td>7.166667</td>\n",
       "    </tr>\n",
       "    <tr>\n",
       "      <th>6</th>\n",
       "      <td>KW Richardson</td>\n",
       "      <td>1</td>\n",
       "      <td>10.0</td>\n",
       "      <td>68</td>\n",
       "      <td>5</td>\n",
       "      <td>6.80</td>\n",
       "      <td>2</td>\n",
       "      <td>India</td>\n",
       "      <td>Canberra</td>\n",
       "      <td>20 Jan 2016</td>\n",
       "      <td>13.600000</td>\n",
       "    </tr>\n",
       "    <tr>\n",
       "      <th>20</th>\n",
       "      <td>JW Hastings</td>\n",
       "      <td>0</td>\n",
       "      <td>10.0</td>\n",
       "      <td>58</td>\n",
       "      <td>4</td>\n",
       "      <td>5.80</td>\n",
       "      <td>1</td>\n",
       "      <td>India</td>\n",
       "      <td>Melbourne</td>\n",
       "      <td>17 Jan 2016</td>\n",
       "      <td>14.500000</td>\n",
       "    </tr>\n",
       "    <tr>\n",
       "      <th>40</th>\n",
       "      <td>NM Coulter-Nile</td>\n",
       "      <td>0</td>\n",
       "      <td>10.0</td>\n",
       "      <td>44</td>\n",
       "      <td>3</td>\n",
       "      <td>4.40</td>\n",
       "      <td>1</td>\n",
       "      <td>India</td>\n",
       "      <td>Chennai</td>\n",
       "      <td>17 Sep 2017</td>\n",
       "      <td>14.666667</td>\n",
       "    </tr>\n",
       "    <tr>\n",
       "      <th>54</th>\n",
       "      <td>JP Faulkner</td>\n",
       "      <td>1</td>\n",
       "      <td>9.0</td>\n",
       "      <td>59</td>\n",
       "      <td>3</td>\n",
       "      <td>6.55</td>\n",
       "      <td>2</td>\n",
       "      <td>India</td>\n",
       "      <td>Sydney</td>\n",
       "      <td>26 Mar 2015</td>\n",
       "      <td>19.666667</td>\n",
       "    </tr>\n",
       "  </tbody>\n",
       "</table>\n",
       "</div>"
      ],
      "text/plain": [
       "             Player Maidens Overs Runs Wickets Economy  Inns Opposition  \\\n",
       "1          MA Starc       2  10.0   43       6    4.30     1      India   \n",
       "6     KW Richardson       1  10.0   68       5    6.80     2      India   \n",
       "20      JW Hastings       0  10.0   58       4    5.80     1      India   \n",
       "40  NM Coulter-Nile       0  10.0   44       3    4.40     1      India   \n",
       "54      JP Faulkner       1   9.0   59       3    6.55     2      India   \n",
       "\n",
       "       Ground   Start Date   runs/wck  \n",
       "1   Melbourne  18 Jan 2015   7.166667  \n",
       "6    Canberra  20 Jan 2016  13.600000  \n",
       "20  Melbourne  17 Jan 2016  14.500000  \n",
       "40    Chennai  17 Sep 2017  14.666667  \n",
       "54     Sydney  26 Mar 2015  19.666667  "
      ]
     },
     "execution_count": 143,
     "metadata": {},
     "output_type": "execute_result"
    }
   ],
   "source": [
    "dfInd.head(5)"
   ]
  },
  {
   "cell_type": "code",
   "execution_count": 144,
   "metadata": {},
   "outputs": [
    {
     "data": {
      "text/plain": [
       "Index(['Player', 'Maidens', 'Overs', 'Runs', 'Wickets', 'Economy', 'Inns',\n",
       "       'Opposition', 'Ground', 'Start Date', 'runs/wck'],\n",
       "      dtype='object')"
      ]
     },
     "execution_count": 144,
     "metadata": {},
     "output_type": "execute_result"
    }
   ],
   "source": [
    "dfInd = dfInd.reset_index(drop=True)\n",
    "dfInd.columns"
   ]
  },
  {
   "cell_type": "code",
   "execution_count": 145,
   "metadata": {},
   "outputs": [
    {
     "data": {
      "text/html": [
       "<div>\n",
       "<style>\n",
       "    .dataframe thead tr:only-child th {\n",
       "        text-align: right;\n",
       "    }\n",
       "\n",
       "    .dataframe thead th {\n",
       "        text-align: left;\n",
       "    }\n",
       "\n",
       "    .dataframe tbody tr th {\n",
       "        vertical-align: top;\n",
       "    }\n",
       "</style>\n",
       "<table border=\"1\" class=\"dataframe\">\n",
       "  <thead>\n",
       "    <tr style=\"text-align: right;\">\n",
       "      <th></th>\n",
       "      <th>Player</th>\n",
       "      <th>Maidens</th>\n",
       "      <th>Overs</th>\n",
       "      <th>Runs</th>\n",
       "      <th>Wickets</th>\n",
       "      <th>Economy</th>\n",
       "      <th>Inns</th>\n",
       "      <th>Opposition</th>\n",
       "      <th>Ground</th>\n",
       "      <th>Start Date</th>\n",
       "      <th>runs/wck</th>\n",
       "    </tr>\n",
       "  </thead>\n",
       "  <tbody>\n",
       "    <tr>\n",
       "      <th>0</th>\n",
       "      <td>MA Starc</td>\n",
       "      <td>2</td>\n",
       "      <td>10.0</td>\n",
       "      <td>43</td>\n",
       "      <td>6</td>\n",
       "      <td>4.30</td>\n",
       "      <td>1</td>\n",
       "      <td>India</td>\n",
       "      <td>Melbourne</td>\n",
       "      <td>18 Jan 2015</td>\n",
       "      <td>7.166667</td>\n",
       "    </tr>\n",
       "    <tr>\n",
       "      <th>1</th>\n",
       "      <td>KW Richardson</td>\n",
       "      <td>1</td>\n",
       "      <td>10.0</td>\n",
       "      <td>68</td>\n",
       "      <td>5</td>\n",
       "      <td>6.80</td>\n",
       "      <td>2</td>\n",
       "      <td>India</td>\n",
       "      <td>Canberra</td>\n",
       "      <td>20 Jan 2016</td>\n",
       "      <td>13.600000</td>\n",
       "    </tr>\n",
       "    <tr>\n",
       "      <th>2</th>\n",
       "      <td>JW Hastings</td>\n",
       "      <td>0</td>\n",
       "      <td>10.0</td>\n",
       "      <td>58</td>\n",
       "      <td>4</td>\n",
       "      <td>5.80</td>\n",
       "      <td>1</td>\n",
       "      <td>India</td>\n",
       "      <td>Melbourne</td>\n",
       "      <td>17 Jan 2016</td>\n",
       "      <td>14.500000</td>\n",
       "    </tr>\n",
       "    <tr>\n",
       "      <th>3</th>\n",
       "      <td>NM Coulter-Nile</td>\n",
       "      <td>0</td>\n",
       "      <td>10.0</td>\n",
       "      <td>44</td>\n",
       "      <td>3</td>\n",
       "      <td>4.40</td>\n",
       "      <td>1</td>\n",
       "      <td>India</td>\n",
       "      <td>Chennai</td>\n",
       "      <td>17 Sep 2017</td>\n",
       "      <td>14.666667</td>\n",
       "    </tr>\n",
       "    <tr>\n",
       "      <th>4</th>\n",
       "      <td>JP Faulkner</td>\n",
       "      <td>1</td>\n",
       "      <td>9.0</td>\n",
       "      <td>59</td>\n",
       "      <td>3</td>\n",
       "      <td>6.55</td>\n",
       "      <td>2</td>\n",
       "      <td>India</td>\n",
       "      <td>Sydney</td>\n",
       "      <td>26 Mar 2015</td>\n",
       "      <td>19.666667</td>\n",
       "    </tr>\n",
       "  </tbody>\n",
       "</table>\n",
       "</div>"
      ],
      "text/plain": [
       "            Player Maidens Overs Runs Wickets Economy  Inns Opposition  \\\n",
       "0         MA Starc       2  10.0   43       6    4.30     1      India   \n",
       "1    KW Richardson       1  10.0   68       5    6.80     2      India   \n",
       "2      JW Hastings       0  10.0   58       4    5.80     1      India   \n",
       "3  NM Coulter-Nile       0  10.0   44       3    4.40     1      India   \n",
       "4      JP Faulkner       1   9.0   59       3    6.55     2      India   \n",
       "\n",
       "      Ground   Start Date   runs/wck  \n",
       "0  Melbourne  18 Jan 2015   7.166667  \n",
       "1   Canberra  20 Jan 2016  13.600000  \n",
       "2  Melbourne  17 Jan 2016  14.500000  \n",
       "3    Chennai  17 Sep 2017  14.666667  \n",
       "4     Sydney  26 Mar 2015  19.666667  "
      ]
     },
     "execution_count": 145,
     "metadata": {},
     "output_type": "execute_result"
    }
   ],
   "source": [
    "dfInd.head(5)"
   ]
  },
  {
   "cell_type": "code",
   "execution_count": 146,
   "metadata": {},
   "outputs": [
    {
     "data": {
      "text/plain": [
       "array([28, 29, 30, 31, 32, 33, 34, 35, 36, 37, 38, 39, 40, 41, 42, 43, 44,\n",
       "       45, 46, 47, 48, 49, 50, 51, 52])"
      ]
     },
     "execution_count": 146,
     "metadata": {},
     "output_type": "execute_result"
    }
   ],
   "source": [
    "# remove inf\n",
    "pxx = np.squeeze(np.where(dfInd[\"runs/wck\"]==np.inf))\n",
    "pxx"
   ]
  },
  {
   "cell_type": "code",
   "execution_count": 147,
   "metadata": {},
   "outputs": [
    {
     "data": {
      "text/html": [
       "<div>\n",
       "<style>\n",
       "    .dataframe thead tr:only-child th {\n",
       "        text-align: right;\n",
       "    }\n",
       "\n",
       "    .dataframe thead th {\n",
       "        text-align: left;\n",
       "    }\n",
       "\n",
       "    .dataframe tbody tr th {\n",
       "        vertical-align: top;\n",
       "    }\n",
       "</style>\n",
       "<table border=\"1\" class=\"dataframe\">\n",
       "  <thead>\n",
       "    <tr style=\"text-align: right;\">\n",
       "      <th></th>\n",
       "      <th>Player</th>\n",
       "      <th>Maidens</th>\n",
       "      <th>Overs</th>\n",
       "      <th>Runs</th>\n",
       "      <th>Wickets</th>\n",
       "      <th>Economy</th>\n",
       "      <th>Inns</th>\n",
       "      <th>Opposition</th>\n",
       "      <th>Ground</th>\n",
       "      <th>Start Date</th>\n",
       "      <th>runs/wck</th>\n",
       "    </tr>\n",
       "  </thead>\n",
       "  <tbody>\n",
       "    <tr>\n",
       "      <th>0</th>\n",
       "      <td>MA Starc</td>\n",
       "      <td>2</td>\n",
       "      <td>10.0</td>\n",
       "      <td>43</td>\n",
       "      <td>6</td>\n",
       "      <td>4.30</td>\n",
       "      <td>1</td>\n",
       "      <td>India</td>\n",
       "      <td>Melbourne</td>\n",
       "      <td>18 Jan 2015</td>\n",
       "      <td>7.166667</td>\n",
       "    </tr>\n",
       "    <tr>\n",
       "      <th>1</th>\n",
       "      <td>KW Richardson</td>\n",
       "      <td>1</td>\n",
       "      <td>10.0</td>\n",
       "      <td>68</td>\n",
       "      <td>5</td>\n",
       "      <td>6.80</td>\n",
       "      <td>2</td>\n",
       "      <td>India</td>\n",
       "      <td>Canberra</td>\n",
       "      <td>20 Jan 2016</td>\n",
       "      <td>13.600000</td>\n",
       "    </tr>\n",
       "    <tr>\n",
       "      <th>2</th>\n",
       "      <td>JW Hastings</td>\n",
       "      <td>0</td>\n",
       "      <td>10.0</td>\n",
       "      <td>58</td>\n",
       "      <td>4</td>\n",
       "      <td>5.80</td>\n",
       "      <td>1</td>\n",
       "      <td>India</td>\n",
       "      <td>Melbourne</td>\n",
       "      <td>17 Jan 2016</td>\n",
       "      <td>14.500000</td>\n",
       "    </tr>\n",
       "    <tr>\n",
       "      <th>3</th>\n",
       "      <td>NM Coulter-Nile</td>\n",
       "      <td>0</td>\n",
       "      <td>10.0</td>\n",
       "      <td>44</td>\n",
       "      <td>3</td>\n",
       "      <td>4.40</td>\n",
       "      <td>1</td>\n",
       "      <td>India</td>\n",
       "      <td>Chennai</td>\n",
       "      <td>17 Sep 2017</td>\n",
       "      <td>14.666667</td>\n",
       "    </tr>\n",
       "    <tr>\n",
       "      <th>4</th>\n",
       "      <td>JP Faulkner</td>\n",
       "      <td>1</td>\n",
       "      <td>9.0</td>\n",
       "      <td>59</td>\n",
       "      <td>3</td>\n",
       "      <td>6.55</td>\n",
       "      <td>2</td>\n",
       "      <td>India</td>\n",
       "      <td>Sydney</td>\n",
       "      <td>26 Mar 2015</td>\n",
       "      <td>19.666667</td>\n",
       "    </tr>\n",
       "  </tbody>\n",
       "</table>\n",
       "</div>"
      ],
      "text/plain": [
       "            Player Maidens Overs Runs Wickets Economy  Inns Opposition  \\\n",
       "0         MA Starc       2  10.0   43       6    4.30     1      India   \n",
       "1    KW Richardson       1  10.0   68       5    6.80     2      India   \n",
       "2      JW Hastings       0  10.0   58       4    5.80     1      India   \n",
       "3  NM Coulter-Nile       0  10.0   44       3    4.40     1      India   \n",
       "4      JP Faulkner       1   9.0   59       3    6.55     2      India   \n",
       "\n",
       "      Ground   Start Date   runs/wck  \n",
       "0  Melbourne  18 Jan 2015   7.166667  \n",
       "1   Canberra  20 Jan 2016  13.600000  \n",
       "2  Melbourne  17 Jan 2016  14.500000  \n",
       "3    Chennai  17 Sep 2017  14.666667  \n",
       "4     Sydney  26 Mar 2015  19.666667  "
      ]
     },
     "execution_count": 147,
     "metadata": {},
     "output_type": "execute_result"
    }
   ],
   "source": [
    "dfIndX = dfInd[0:pxx[0]]\n",
    "dfIndX.head(5)"
   ]
  },
  {
   "cell_type": "code",
   "execution_count": 148,
   "metadata": {},
   "outputs": [
    {
     "data": {
      "text/plain": [
       "array(['MA Starc', 'KW Richardson', 'JW Hastings', 'NM Coulter-Nile',\n",
       "       'JP Faulkner', 'MG Johnson', 'MP Stoinis', 'MR Marsh', 'JS Paris',\n",
       "       'JR Hazlewood', 'GS Sandhu', 'SM Boland', 'A Zampa', 'NM Lyon'], dtype=object)"
      ]
     },
     "execution_count": 148,
     "metadata": {},
     "output_type": "execute_result"
    }
   ],
   "source": [
    "playernameAus  = dfIndX.Player.unique()\n",
    "playernameAus  "
   ]
  },
  {
   "cell_type": "code",
   "execution_count": 149,
   "metadata": {
    "collapsed": true
   },
   "outputs": [],
   "source": [
    "def PlayerWicketPerOverAus(p):\n",
    "    tmpPlayer         = dfIndX[dfIndX[\"Player\"]==p]\n",
    "    tmpPlayer         = tmpPlayer.reset_index(drop=True)\n",
    "    maxrunPwck        = np.max(np.array(tmpPlayer[\"runs/wck\"]))\n",
    "    totalrunPwck      = sum(np.array(tmpPlayer[\"runs/wck\"]))\n",
    "    return (maxrunPwck,totalrunPwck)"
   ]
  },
  {
   "cell_type": "code",
   "execution_count": 150,
   "metadata": {
    "collapsed": true
   },
   "outputs": [],
   "source": [
    "tba=[]\n",
    "for i in playernameAus:\n",
    "    [mxrpwck,wrpwck] = PlayerWicketPerOverAus(i)\n",
    "    tba.append([i,mxrpwck,wrpwck])"
   ]
  },
  {
   "cell_type": "code",
   "execution_count": 151,
   "metadata": {},
   "outputs": [
    {
     "data": {
      "text/html": [
       "<div>\n",
       "<style>\n",
       "    .dataframe thead tr:only-child th {\n",
       "        text-align: right;\n",
       "    }\n",
       "\n",
       "    .dataframe thead th {\n",
       "        text-align: left;\n",
       "    }\n",
       "\n",
       "    .dataframe tbody tr th {\n",
       "        vertical-align: top;\n",
       "    }\n",
       "</style>\n",
       "<table border=\"1\" class=\"dataframe\">\n",
       "  <thead>\n",
       "    <tr style=\"text-align: right;\">\n",
       "      <th></th>\n",
       "      <th>player_name</th>\n",
       "      <th>max_runs/wicket</th>\n",
       "      <th>total_runs/wicket</th>\n",
       "    </tr>\n",
       "  </thead>\n",
       "  <tbody>\n",
       "    <tr>\n",
       "      <th>0</th>\n",
       "      <td>MA Starc</td>\n",
       "      <td>14.000000</td>\n",
       "      <td>32.166667</td>\n",
       "    </tr>\n",
       "    <tr>\n",
       "      <th>1</th>\n",
       "      <td>KW Richardson</td>\n",
       "      <td>48.000000</td>\n",
       "      <td>61.600000</td>\n",
       "    </tr>\n",
       "    <tr>\n",
       "      <th>2</th>\n",
       "      <td>JW Hastings</td>\n",
       "      <td>46.000000</td>\n",
       "      <td>105.833333</td>\n",
       "    </tr>\n",
       "    <tr>\n",
       "      <th>3</th>\n",
       "      <td>NM Coulter-Nile</td>\n",
       "      <td>14.666667</td>\n",
       "      <td>14.666667</td>\n",
       "    </tr>\n",
       "    <tr>\n",
       "      <th>4</th>\n",
       "      <td>JP Faulkner</td>\n",
       "      <td>67.000000</td>\n",
       "      <td>274.666667</td>\n",
       "    </tr>\n",
       "  </tbody>\n",
       "</table>\n",
       "</div>"
      ],
      "text/plain": [
       "       player_name  max_runs/wicket  total_runs/wicket\n",
       "0         MA Starc        14.000000          32.166667\n",
       "1    KW Richardson        48.000000          61.600000\n",
       "2      JW Hastings        46.000000         105.833333\n",
       "3  NM Coulter-Nile        14.666667          14.666667\n",
       "4      JP Faulkner        67.000000         274.666667"
      ]
     },
     "execution_count": 151,
     "metadata": {},
     "output_type": "execute_result"
    }
   ],
   "source": [
    "dfwAus = pd.DataFrame(tba,columns=['player_name','max_runs/wicket','total_runs/wicket'])\n",
    "dfwAus.head(5)"
   ]
  },
  {
   "cell_type": "code",
   "execution_count": 152,
   "metadata": {
    "collapsed": true
   },
   "outputs": [],
   "source": [
    "def visualize(d1,d2,title,ylb):\n",
    "    data = [go.Bar(\n",
    "            x=np.array(dfwAus[d1]),\n",
    "            y=np.array(dfwAus[d2])\n",
    "            \n",
    "    )]\n",
    "\n",
    "    layout = go.Layout(\n",
    "    \n",
    "            title=title,\n",
    "            xaxis=dict(\n",
    "            title='Players_name',\n",
    "            titlefont=dict(\n",
    "            family='Courier New, monospace',\n",
    "                size=18,\n",
    "                color='#7f7f7f'\n",
    "            )\n",
    "        ),\n",
    "        yaxis=dict(\n",
    "            title=ylb,\n",
    "            titlefont=dict(\n",
    "            family='Courier New, monospace',\n",
    "            size=18,\n",
    "            color='#7f7f7f'\n",
    "            )\n",
    "        )\n",
    "    )\n",
    "    \n",
    "    return (data,layout)"
   ]
  },
  {
   "cell_type": "code",
   "execution_count": 153,
   "metadata": {},
   "outputs": [
    {
     "name": "stdout",
     "output_type": "stream",
     "text": [
      "High five! You successfully sent some data to your account on plotly. View your plot in your browser at https://plot.ly/~ayon.mi1/0 or inside your plot.ly account where it is named 'basic-bar'\n"
     ]
    },
    {
     "data": {
      "text/html": [
       "<iframe id=\"igraph\" scrolling=\"no\" style=\"border:none;\" seamless=\"seamless\" src=\"https://plot.ly/~ayon.mi1/0.embed\" height=\"525px\" width=\"100%\"></iframe>"
      ],
      "text/plain": [
       "<plotly.tools.PlotlyDisplay object>"
      ]
     },
     "execution_count": 153,
     "metadata": {},
     "output_type": "execute_result"
    }
   ],
   "source": [
    "[data,layout]=visualize('player_name',\"max_runs/wicket\",'max runs/wicket Vs India',\"maximum runs/wicket\")\n",
    "fig = go.Figure(data=data, layout=layout)\n",
    "py.iplot(fig, filename='basic-bar')"
   ]
  },
  {
   "cell_type": "code",
   "execution_count": 154,
   "metadata": {},
   "outputs": [
    {
     "name": "stdout",
     "output_type": "stream",
     "text": [
      "High five! You successfully sent some data to your account on plotly. View your plot in your browser at https://plot.ly/~ayon.mi1/0 or inside your plot.ly account where it is named 'basic-bar'\n"
     ]
    },
    {
     "data": {
      "text/html": [
       "<iframe id=\"igraph\" scrolling=\"no\" style=\"border:none;\" seamless=\"seamless\" src=\"https://plot.ly/~ayon.mi1/0.embed\" height=\"525px\" width=\"100%\"></iframe>"
      ],
      "text/plain": [
       "<plotly.tools.PlotlyDisplay object>"
      ]
     },
     "execution_count": 154,
     "metadata": {},
     "output_type": "execute_result"
    }
   ],
   "source": [
    "[data,layout]=visualize('player_name',\"total_runs/wicket\",'Total runs/wicket Vs India',\"total runs/wicket\")\n",
    "fig = go.Figure(data=data, layout=layout)\n",
    "py.iplot(fig, filename='basic-bar')"
   ]
  },
  {
   "cell_type": "markdown",
   "metadata": {},
   "source": [
    "# Comparism/"
   ]
  },
  {
   "cell_type": "code",
   "execution_count": 157,
   "metadata": {
    "collapsed": true
   },
   "outputs": [],
   "source": [
    "IndPlayername = dfAusX.Player.unique()"
   ]
  },
  {
   "cell_type": "code",
   "execution_count": 158,
   "metadata": {
    "collapsed": true
   },
   "outputs": [],
   "source": [
    "def compIND(i):    \n",
    "    tmp             = dfAusX[dfAusX[\"Player\"]==i]\n",
    "    tmp             = tmp.reset_index(drop=True)\n",
    "    totalInns       = sum(np.array(tmp[\"Inns\"]).astype(\"int\"))\n",
    "    totalRuns       = sum(np.array(tmp[\"Runs\"]).astype(\"int\"))\n",
    "    totalWicket     = sum(np.array(tmp[\"Wickets\"].astype(\"int\")))\n",
    "    return (totalInns,totalRuns,totalWicket)"
   ]
  },
  {
   "cell_type": "code",
   "execution_count": 159,
   "metadata": {
    "collapsed": true
   },
   "outputs": [],
   "source": [
    "tbInd=[]\n",
    "for i in IndPlayername :\n",
    "    [totalInns,totalRuns,totalWicket] = compIND(i)\n",
    "    tbInd.append([i,totalInns,totalRuns,totalWicket])"
   ]
  },
  {
   "cell_type": "code",
   "execution_count": 177,
   "metadata": {},
   "outputs": [
    {
     "data": {
      "text/html": [
       "<div>\n",
       "<style>\n",
       "    .dataframe thead tr:only-child th {\n",
       "        text-align: right;\n",
       "    }\n",
       "\n",
       "    .dataframe thead th {\n",
       "        text-align: left;\n",
       "    }\n",
       "\n",
       "    .dataframe tbody tr th {\n",
       "        vertical-align: top;\n",
       "    }\n",
       "</style>\n",
       "<table border=\"1\" class=\"dataframe\">\n",
       "  <thead>\n",
       "    <tr style=\"text-align: right;\">\n",
       "      <th></th>\n",
       "      <th>players</th>\n",
       "      <th>totalInns</th>\n",
       "      <th>totalRuns</th>\n",
       "      <th>totalWicket</th>\n",
       "    </tr>\n",
       "  </thead>\n",
       "  <tbody>\n",
       "    <tr>\n",
       "      <th>0</th>\n",
       "      <td>UT Yadav</td>\n",
       "      <td>9</td>\n",
       "      <td>418</td>\n",
       "      <td>13</td>\n",
       "    </tr>\n",
       "    <tr>\n",
       "      <th>1</th>\n",
       "      <td>I Sharma</td>\n",
       "      <td>6</td>\n",
       "      <td>250</td>\n",
       "      <td>9</td>\n",
       "    </tr>\n",
       "    <tr>\n",
       "      <th>2</th>\n",
       "      <td>YS Chahal</td>\n",
       "      <td>2</td>\n",
       "      <td>30</td>\n",
       "      <td>3</td>\n",
       "    </tr>\n",
       "    <tr>\n",
       "      <th>3</th>\n",
       "      <td>BB Sran</td>\n",
       "      <td>2</td>\n",
       "      <td>56</td>\n",
       "      <td>3</td>\n",
       "    </tr>\n",
       "    <tr>\n",
       "      <th>4</th>\n",
       "      <td>HH Pandya</td>\n",
       "      <td>2</td>\n",
       "      <td>28</td>\n",
       "      <td>2</td>\n",
       "    </tr>\n",
       "    <tr>\n",
       "      <th>5</th>\n",
       "      <td>Kuldeep Yadav</td>\n",
       "      <td>2</td>\n",
       "      <td>33</td>\n",
       "      <td>2</td>\n",
       "    </tr>\n",
       "    <tr>\n",
       "      <th>6</th>\n",
       "      <td>JJ Bumrah</td>\n",
       "      <td>3</td>\n",
       "      <td>60</td>\n",
       "      <td>3</td>\n",
       "    </tr>\n",
       "    <tr>\n",
       "      <th>7</th>\n",
       "      <td>RA Jadeja</td>\n",
       "      <td>4</td>\n",
       "      <td>99</td>\n",
       "      <td>3</td>\n",
       "    </tr>\n",
       "    <tr>\n",
       "      <th>8</th>\n",
       "      <td>R Ashwin</td>\n",
       "      <td>5</td>\n",
       "      <td>164</td>\n",
       "      <td>4</td>\n",
       "    </tr>\n",
       "    <tr>\n",
       "      <th>9</th>\n",
       "      <td>MM Sharma</td>\n",
       "      <td>1</td>\n",
       "      <td>75</td>\n",
       "      <td>2</td>\n",
       "    </tr>\n",
       "    <tr>\n",
       "      <th>10</th>\n",
       "      <td>B Kumar</td>\n",
       "      <td>4</td>\n",
       "      <td>69</td>\n",
       "      <td>2</td>\n",
       "    </tr>\n",
       "    <tr>\n",
       "      <th>11</th>\n",
       "      <td>Mohammed Shami</td>\n",
       "      <td>2</td>\n",
       "      <td>44</td>\n",
       "      <td>1</td>\n",
       "    </tr>\n",
       "    <tr>\n",
       "      <th>12</th>\n",
       "      <td>AR Patel</td>\n",
       "      <td>2</td>\n",
       "      <td>45</td>\n",
       "      <td>1</td>\n",
       "    </tr>\n",
       "    <tr>\n",
       "      <th>13</th>\n",
       "      <td>R Dhawan</td>\n",
       "      <td>1</td>\n",
       "      <td>74</td>\n",
       "      <td>1</td>\n",
       "    </tr>\n",
       "  </tbody>\n",
       "</table>\n",
       "</div>"
      ],
      "text/plain": [
       "           players  totalInns  totalRuns  totalWicket\n",
       "0         UT Yadav          9        418           13\n",
       "1         I Sharma          6        250            9\n",
       "2        YS Chahal          2         30            3\n",
       "3          BB Sran          2         56            3\n",
       "4        HH Pandya          2         28            2\n",
       "5    Kuldeep Yadav          2         33            2\n",
       "6        JJ Bumrah          3         60            3\n",
       "7        RA Jadeja          4         99            3\n",
       "8         R Ashwin          5        164            4\n",
       "9        MM Sharma          1         75            2\n",
       "10         B Kumar          4         69            2\n",
       "11  Mohammed Shami          2         44            1\n",
       "12        AR Patel          2         45            1\n",
       "13        R Dhawan          1         74            1"
      ]
     },
     "execution_count": 177,
     "metadata": {},
     "output_type": "execute_result"
    }
   ],
   "source": [
    "tbInd = pd.DataFrame(tbInd,columns=[\"players\",\"totalInns\",\"totalRuns\",\"totalWicket\"])\n",
    "tbInd"
   ]
  },
  {
   "cell_type": "code",
   "execution_count": 168,
   "metadata": {
    "collapsed": true
   },
   "outputs": [],
   "source": [
    "AusPlayername = dfIndX.Player.unique()"
   ]
  },
  {
   "cell_type": "code",
   "execution_count": 169,
   "metadata": {
    "collapsed": true
   },
   "outputs": [],
   "source": [
    "def compAUS(i):    \n",
    "    tmp             = dfIndX[dfIndX[\"Player\"]==i]\n",
    "    tmp             = tmp.reset_index(drop=True)\n",
    "    totalInns       = sum(np.array(tmp[\"Inns\"]).astype(\"int\"))\n",
    "    totalRuns       = sum(np.array(tmp[\"Runs\"]).astype(\"int\"))\n",
    "    totalWicket     = sum(np.array(tmp[\"Wickets\"].astype(\"int\")))\n",
    "    return (totalInns,totalRuns,totalWicket)"
   ]
  },
  {
   "cell_type": "code",
   "execution_count": 174,
   "metadata": {
    "collapsed": true
   },
   "outputs": [],
   "source": [
    "tbAus=[]\n",
    "for i in AusPlayername:\n",
    "    [totalInns,totalRuns,totalWicket] = compAUS(i)\n",
    "    tbAus.append([i,totalInns,totalRuns,totalWicket])"
   ]
  },
  {
   "cell_type": "code",
   "execution_count": 178,
   "metadata": {},
   "outputs": [
    {
     "data": {
      "text/html": [
       "<div>\n",
       "<style>\n",
       "    .dataframe thead tr:only-child th {\n",
       "        text-align: right;\n",
       "    }\n",
       "\n",
       "    .dataframe thead th {\n",
       "        text-align: left;\n",
       "    }\n",
       "\n",
       "    .dataframe tbody tr th {\n",
       "        vertical-align: top;\n",
       "    }\n",
       "</style>\n",
       "<table border=\"1\" class=\"dataframe\">\n",
       "  <thead>\n",
       "    <tr style=\"text-align: right;\">\n",
       "      <th></th>\n",
       "      <th>players</th>\n",
       "      <th>totalInns</th>\n",
       "      <th>totalRuns</th>\n",
       "      <th>totalWicket</th>\n",
       "    </tr>\n",
       "  </thead>\n",
       "  <tbody>\n",
       "    <tr>\n",
       "      <th>0</th>\n",
       "      <td>MA Starc</td>\n",
       "      <td>4</td>\n",
       "      <td>82</td>\n",
       "      <td>9</td>\n",
       "    </tr>\n",
       "    <tr>\n",
       "      <th>1</th>\n",
       "      <td>KW Richardson</td>\n",
       "      <td>3</td>\n",
       "      <td>116</td>\n",
       "      <td>6</td>\n",
       "    </tr>\n",
       "    <tr>\n",
       "      <th>2</th>\n",
       "      <td>JW Hastings</td>\n",
       "      <td>6</td>\n",
       "      <td>215</td>\n",
       "      <td>10</td>\n",
       "    </tr>\n",
       "    <tr>\n",
       "      <th>3</th>\n",
       "      <td>NM Coulter-Nile</td>\n",
       "      <td>1</td>\n",
       "      <td>44</td>\n",
       "      <td>3</td>\n",
       "    </tr>\n",
       "    <tr>\n",
       "      <th>4</th>\n",
       "      <td>JP Faulkner</td>\n",
       "      <td>7</td>\n",
       "      <td>376</td>\n",
       "      <td>10</td>\n",
       "    </tr>\n",
       "    <tr>\n",
       "      <th>5</th>\n",
       "      <td>MG Johnson</td>\n",
       "      <td>2</td>\n",
       "      <td>50</td>\n",
       "      <td>2</td>\n",
       "    </tr>\n",
       "    <tr>\n",
       "      <th>6</th>\n",
       "      <td>MP Stoinis</td>\n",
       "      <td>1</td>\n",
       "      <td>54</td>\n",
       "      <td>2</td>\n",
       "    </tr>\n",
       "    <tr>\n",
       "      <th>7</th>\n",
       "      <td>MR Marsh</td>\n",
       "      <td>5</td>\n",
       "      <td>153</td>\n",
       "      <td>4</td>\n",
       "    </tr>\n",
       "    <tr>\n",
       "      <th>8</th>\n",
       "      <td>JS Paris</td>\n",
       "      <td>1</td>\n",
       "      <td>40</td>\n",
       "      <td>1</td>\n",
       "    </tr>\n",
       "    <tr>\n",
       "      <th>9</th>\n",
       "      <td>JR Hazlewood</td>\n",
       "      <td>3</td>\n",
       "      <td>82</td>\n",
       "      <td>2</td>\n",
       "    </tr>\n",
       "    <tr>\n",
       "      <th>10</th>\n",
       "      <td>GS Sandhu</td>\n",
       "      <td>1</td>\n",
       "      <td>58</td>\n",
       "      <td>1</td>\n",
       "    </tr>\n",
       "    <tr>\n",
       "      <th>11</th>\n",
       "      <td>SM Boland</td>\n",
       "      <td>1</td>\n",
       "      <td>64</td>\n",
       "      <td>1</td>\n",
       "    </tr>\n",
       "    <tr>\n",
       "      <th>12</th>\n",
       "      <td>A Zampa</td>\n",
       "      <td>1</td>\n",
       "      <td>66</td>\n",
       "      <td>1</td>\n",
       "    </tr>\n",
       "    <tr>\n",
       "      <th>13</th>\n",
       "      <td>NM Lyon</td>\n",
       "      <td>2</td>\n",
       "      <td>76</td>\n",
       "      <td>1</td>\n",
       "    </tr>\n",
       "  </tbody>\n",
       "</table>\n",
       "</div>"
      ],
      "text/plain": [
       "            players  totalInns  totalRuns  totalWicket\n",
       "0          MA Starc          4         82            9\n",
       "1     KW Richardson          3        116            6\n",
       "2       JW Hastings          6        215           10\n",
       "3   NM Coulter-Nile          1         44            3\n",
       "4       JP Faulkner          7        376           10\n",
       "5        MG Johnson          2         50            2\n",
       "6        MP Stoinis          1         54            2\n",
       "7          MR Marsh          5        153            4\n",
       "8          JS Paris          1         40            1\n",
       "9      JR Hazlewood          3         82            2\n",
       "10        GS Sandhu          1         58            1\n",
       "11        SM Boland          1         64            1\n",
       "12          A Zampa          1         66            1\n",
       "13          NM Lyon          2         76            1"
      ]
     },
     "execution_count": 178,
     "metadata": {},
     "output_type": "execute_result"
    }
   ],
   "source": [
    "tbAus = pd.DataFrame(tbAus,columns=[\"players\",\"totalInns\",\"totalRuns\",\"totalWicket\"])\n",
    "tbAus"
   ]
  },
  {
   "cell_type": "code",
   "execution_count": null,
   "metadata": {
    "collapsed": true
   },
   "outputs": [],
   "source": []
  }
 ],
 "metadata": {
  "kernelspec": {
   "display_name": "Python [conda root]",
   "language": "python",
   "name": "conda-root-py"
  },
  "language_info": {
   "codemirror_mode": {
    "name": "ipython",
    "version": 3
   },
   "file_extension": ".py",
   "mimetype": "text/x-python",
   "name": "python",
   "nbconvert_exporter": "python",
   "pygments_lexer": "ipython3",
   "version": "3.5.3"
  }
 },
 "nbformat": 4,
 "nbformat_minor": 2
}
