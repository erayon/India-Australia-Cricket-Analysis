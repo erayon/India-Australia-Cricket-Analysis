{
 "cells": [
  {
   "cell_type": "markdown",
   "metadata": {},
   "source": [
    "# Visualize the performance of India’s batting in the match where they scored highest runs in 2016."
   ]
  },
  {
   "cell_type": "markdown",
   "metadata": {},
   "source": [
    "# import Dependencies"
   ]
  },
  {
   "cell_type": "code",
   "execution_count": 1,
   "metadata": {
    "collapsed": true
   },
   "outputs": [],
   "source": [
    "import pandas as pd\n",
    "import numpy as np\n",
    "import matplotlib.pyplot as plt\n",
    "import datetime as dt\n",
    "import matplotlib.pyplot as plt\n",
    "import matplotlib.dates as mdates\n",
    "import seaborn as sns\n",
    "import plotly.plotly as py\n",
    "import plotly.graph_objs as go\n",
    "%matplotlib notebook"
   ]
  },
  {
   "cell_type": "markdown",
   "metadata": {},
   "source": [
    "# Load Dataset"
   ]
  },
  {
   "cell_type": "code",
   "execution_count": 2,
   "metadata": {
    "collapsed": true
   },
   "outputs": [],
   "source": [
    "IB = pd.read_csv(\"india-batting.csv\")"
   ]
  },
  {
   "cell_type": "code",
   "execution_count": 3,
   "metadata": {},
   "outputs": [
    {
     "data": {
      "text/html": [
       "<div>\n",
       "<style>\n",
       "    .dataframe thead tr:only-child th {\n",
       "        text-align: right;\n",
       "    }\n",
       "\n",
       "    .dataframe thead th {\n",
       "        text-align: left;\n",
       "    }\n",
       "\n",
       "    .dataframe tbody tr th {\n",
       "        vertical-align: top;\n",
       "    }\n",
       "</style>\n",
       "<table border=\"1\" class=\"dataframe\">\n",
       "  <thead>\n",
       "    <tr style=\"text-align: right;\">\n",
       "      <th></th>\n",
       "      <th>Player</th>\n",
       "      <th>Player Link</th>\n",
       "      <th>Minutes</th>\n",
       "      <th>Runs</th>\n",
       "      <th>Balls Faced</th>\n",
       "      <th>Fours</th>\n",
       "      <th>Sixes</th>\n",
       "      <th>Strike Rate</th>\n",
       "      <th>Inns</th>\n",
       "      <th>Opposition</th>\n",
       "      <th>Ground</th>\n",
       "      <th>Start Date</th>\n",
       "    </tr>\n",
       "  </thead>\n",
       "  <tbody>\n",
       "    <tr>\n",
       "      <th>0</th>\n",
       "      <td>RG Sharma</td>\n",
       "      <td>/ci/content/player/34102.html</td>\n",
       "      <td>205</td>\n",
       "      <td>171*</td>\n",
       "      <td>163</td>\n",
       "      <td>13</td>\n",
       "      <td>7</td>\n",
       "      <td>104.90</td>\n",
       "      <td>1</td>\n",
       "      <td>Australia</td>\n",
       "      <td>Perth</td>\n",
       "      <td>12 Jan 2016</td>\n",
       "    </tr>\n",
       "    <tr>\n",
       "      <th>1</th>\n",
       "      <td>V Kohli</td>\n",
       "      <td>/ci/content/player/253802.html</td>\n",
       "      <td>202</td>\n",
       "      <td>154*</td>\n",
       "      <td>134</td>\n",
       "      <td>16</td>\n",
       "      <td>1</td>\n",
       "      <td>114.92</td>\n",
       "      <td>2</td>\n",
       "      <td>New Zealand</td>\n",
       "      <td>Mohali</td>\n",
       "      <td>23 Oct 2016</td>\n",
       "    </tr>\n",
       "    <tr>\n",
       "      <th>2</th>\n",
       "      <td>RG Sharma</td>\n",
       "      <td>/ci/content/player/34102.html</td>\n",
       "      <td>215</td>\n",
       "      <td>150</td>\n",
       "      <td>133</td>\n",
       "      <td>13</td>\n",
       "      <td>6</td>\n",
       "      <td>112.78</td>\n",
       "      <td>2</td>\n",
       "      <td>South Africa</td>\n",
       "      <td>Kanpur</td>\n",
       "      <td>11 Oct 2015</td>\n",
       "    </tr>\n",
       "    <tr>\n",
       "      <th>3</th>\n",
       "      <td>Yuvraj Singh</td>\n",
       "      <td>/ci/content/player/36084.html</td>\n",
       "      <td>183</td>\n",
       "      <td>150</td>\n",
       "      <td>127</td>\n",
       "      <td>21</td>\n",
       "      <td>3</td>\n",
       "      <td>118.11</td>\n",
       "      <td>1</td>\n",
       "      <td>England</td>\n",
       "      <td>Cuttack</td>\n",
       "      <td>19 Jan 2017</td>\n",
       "    </tr>\n",
       "    <tr>\n",
       "      <th>4</th>\n",
       "      <td>RG Sharma</td>\n",
       "      <td>/ci/content/player/34102.html</td>\n",
       "      <td>228</td>\n",
       "      <td>138</td>\n",
       "      <td>139</td>\n",
       "      <td>9</td>\n",
       "      <td>4</td>\n",
       "      <td>99.28</td>\n",
       "      <td>1</td>\n",
       "      <td>Australia</td>\n",
       "      <td>Melbourne</td>\n",
       "      <td>18 Jan 2015</td>\n",
       "    </tr>\n",
       "  </tbody>\n",
       "</table>\n",
       "</div>"
      ],
      "text/plain": [
       "         Player                     Player Link Minutes  Runs Balls Faced  \\\n",
       "0     RG Sharma   /ci/content/player/34102.html     205  171*         163   \n",
       "1       V Kohli  /ci/content/player/253802.html     202  154*         134   \n",
       "2     RG Sharma   /ci/content/player/34102.html     215   150         133   \n",
       "3  Yuvraj Singh   /ci/content/player/36084.html     183   150         127   \n",
       "4     RG Sharma   /ci/content/player/34102.html     228   138         139   \n",
       "\n",
       "  Fours Sixes Strike Rate  Inns    Opposition     Ground   Start Date  \n",
       "0    13     7      104.90     1     Australia      Perth  12 Jan 2016  \n",
       "1    16     1      114.92     2   New Zealand     Mohali  23 Oct 2016  \n",
       "2    13     6      112.78     2  South Africa     Kanpur  11 Oct 2015  \n",
       "3    21     3      118.11     1       England    Cuttack  19 Jan 2017  \n",
       "4     9     4       99.28     1     Australia  Melbourne  18 Jan 2015  "
      ]
     },
     "execution_count": 3,
     "metadata": {},
     "output_type": "execute_result"
    }
   ],
   "source": [
    "IB.head(5)"
   ]
  },
  {
   "cell_type": "code",
   "execution_count": 4,
   "metadata": {},
   "outputs": [
    {
     "data": {
      "text/plain": [
       "Index(['Player', 'Player Link', 'Minutes', 'Runs', 'Balls Faced', 'Fours',\n",
       "       'Sixes', 'Strike Rate', 'Inns', 'Opposition', 'Ground', 'Start Date'],\n",
       "      dtype='object')"
      ]
     },
     "execution_count": 4,
     "metadata": {},
     "output_type": "execute_result"
    }
   ],
   "source": [
    "IB.columns"
   ]
  },
  {
   "cell_type": "markdown",
   "metadata": {},
   "source": [
    "# Split the year from 'Start Date' columns and create a new column name 'year'"
   ]
  },
  {
   "cell_type": "code",
   "execution_count": 5,
   "metadata": {
    "collapsed": true
   },
   "outputs": [],
   "source": [
    "year=[]\n",
    "for i in range(len(IB)):\n",
    "    x = IB['Start Date'][i].split(\" \")[-1]\n",
    "    year.append(x)"
   ]
  },
  {
   "cell_type": "code",
   "execution_count": 6,
   "metadata": {
    "collapsed": true
   },
   "outputs": [],
   "source": [
    "year= pd.DataFrame(year,columns=[\"year\"])\n",
    "mr = [IB,year]"
   ]
  },
  {
   "cell_type": "code",
   "execution_count": 7,
   "metadata": {},
   "outputs": [
    {
     "data": {
      "text/html": [
       "<div>\n",
       "<style>\n",
       "    .dataframe thead tr:only-child th {\n",
       "        text-align: right;\n",
       "    }\n",
       "\n",
       "    .dataframe thead th {\n",
       "        text-align: left;\n",
       "    }\n",
       "\n",
       "    .dataframe tbody tr th {\n",
       "        vertical-align: top;\n",
       "    }\n",
       "</style>\n",
       "<table border=\"1\" class=\"dataframe\">\n",
       "  <thead>\n",
       "    <tr style=\"text-align: right;\">\n",
       "      <th></th>\n",
       "      <th>Player</th>\n",
       "      <th>Player Link</th>\n",
       "      <th>Minutes</th>\n",
       "      <th>Runs</th>\n",
       "      <th>Balls Faced</th>\n",
       "      <th>Fours</th>\n",
       "      <th>Sixes</th>\n",
       "      <th>Strike Rate</th>\n",
       "      <th>Inns</th>\n",
       "      <th>Opposition</th>\n",
       "      <th>Ground</th>\n",
       "      <th>Start Date</th>\n",
       "      <th>year</th>\n",
       "    </tr>\n",
       "  </thead>\n",
       "  <tbody>\n",
       "    <tr>\n",
       "      <th>0</th>\n",
       "      <td>RG Sharma</td>\n",
       "      <td>/ci/content/player/34102.html</td>\n",
       "      <td>205</td>\n",
       "      <td>171*</td>\n",
       "      <td>163</td>\n",
       "      <td>13</td>\n",
       "      <td>7</td>\n",
       "      <td>104.90</td>\n",
       "      <td>1</td>\n",
       "      <td>Australia</td>\n",
       "      <td>Perth</td>\n",
       "      <td>12 Jan 2016</td>\n",
       "      <td>2016</td>\n",
       "    </tr>\n",
       "    <tr>\n",
       "      <th>1</th>\n",
       "      <td>V Kohli</td>\n",
       "      <td>/ci/content/player/253802.html</td>\n",
       "      <td>202</td>\n",
       "      <td>154*</td>\n",
       "      <td>134</td>\n",
       "      <td>16</td>\n",
       "      <td>1</td>\n",
       "      <td>114.92</td>\n",
       "      <td>2</td>\n",
       "      <td>New Zealand</td>\n",
       "      <td>Mohali</td>\n",
       "      <td>23 Oct 2016</td>\n",
       "      <td>2016</td>\n",
       "    </tr>\n",
       "    <tr>\n",
       "      <th>2</th>\n",
       "      <td>RG Sharma</td>\n",
       "      <td>/ci/content/player/34102.html</td>\n",
       "      <td>215</td>\n",
       "      <td>150</td>\n",
       "      <td>133</td>\n",
       "      <td>13</td>\n",
       "      <td>6</td>\n",
       "      <td>112.78</td>\n",
       "      <td>2</td>\n",
       "      <td>South Africa</td>\n",
       "      <td>Kanpur</td>\n",
       "      <td>11 Oct 2015</td>\n",
       "      <td>2015</td>\n",
       "    </tr>\n",
       "    <tr>\n",
       "      <th>3</th>\n",
       "      <td>Yuvraj Singh</td>\n",
       "      <td>/ci/content/player/36084.html</td>\n",
       "      <td>183</td>\n",
       "      <td>150</td>\n",
       "      <td>127</td>\n",
       "      <td>21</td>\n",
       "      <td>3</td>\n",
       "      <td>118.11</td>\n",
       "      <td>1</td>\n",
       "      <td>England</td>\n",
       "      <td>Cuttack</td>\n",
       "      <td>19 Jan 2017</td>\n",
       "      <td>2017</td>\n",
       "    </tr>\n",
       "    <tr>\n",
       "      <th>4</th>\n",
       "      <td>RG Sharma</td>\n",
       "      <td>/ci/content/player/34102.html</td>\n",
       "      <td>228</td>\n",
       "      <td>138</td>\n",
       "      <td>139</td>\n",
       "      <td>9</td>\n",
       "      <td>4</td>\n",
       "      <td>99.28</td>\n",
       "      <td>1</td>\n",
       "      <td>Australia</td>\n",
       "      <td>Melbourne</td>\n",
       "      <td>18 Jan 2015</td>\n",
       "      <td>2015</td>\n",
       "    </tr>\n",
       "  </tbody>\n",
       "</table>\n",
       "</div>"
      ],
      "text/plain": [
       "         Player                     Player Link Minutes  Runs Balls Faced  \\\n",
       "0     RG Sharma   /ci/content/player/34102.html     205  171*         163   \n",
       "1       V Kohli  /ci/content/player/253802.html     202  154*         134   \n",
       "2     RG Sharma   /ci/content/player/34102.html     215   150         133   \n",
       "3  Yuvraj Singh   /ci/content/player/36084.html     183   150         127   \n",
       "4     RG Sharma   /ci/content/player/34102.html     228   138         139   \n",
       "\n",
       "  Fours Sixes Strike Rate  Inns    Opposition     Ground   Start Date  year  \n",
       "0    13     7      104.90     1     Australia      Perth  12 Jan 2016  2016  \n",
       "1    16     1      114.92     2   New Zealand     Mohali  23 Oct 2016  2016  \n",
       "2    13     6      112.78     2  South Africa     Kanpur  11 Oct 2015  2015  \n",
       "3    21     3      118.11     1       England    Cuttack  19 Jan 2017  2017  \n",
       "4     9     4       99.28     1     Australia  Melbourne  18 Jan 2015  2015  "
      ]
     },
     "execution_count": 7,
     "metadata": {},
     "output_type": "execute_result"
    }
   ],
   "source": [
    "df=pd.concat(mr,axis=1)\n",
    "df.head(5)"
   ]
  },
  {
   "cell_type": "markdown",
   "metadata": {},
   "source": [
    "# Find all rows in the year 2016 from new dataframe and remove 'DND' rows from the dataframe which appear in the 'Runs' columns"
   ]
  },
  {
   "cell_type": "code",
   "execution_count": 8,
   "metadata": {
    "collapsed": true
   },
   "outputs": [],
   "source": [
    "df_16 = df[df[\"year\"]==\"2016\"]"
   ]
  },
  {
   "cell_type": "code",
   "execution_count": 9,
   "metadata": {},
   "outputs": [
    {
     "data": {
      "text/plain": [
       "Index(['Player', 'Player Link', 'Minutes', 'Runs', 'Balls Faced', 'Fours',\n",
       "       'Sixes', 'Strike Rate', 'Inns', 'Opposition', 'Ground', 'Start Date',\n",
       "       'year'],\n",
       "      dtype='object')"
      ]
     },
     "execution_count": 9,
     "metadata": {},
     "output_type": "execute_result"
    }
   ],
   "source": [
    "df_16=df_16.reset_index(drop=True)\n",
    "df_16.columns"
   ]
  },
  {
   "cell_type": "code",
   "execution_count": 10,
   "metadata": {
    "collapsed": true
   },
   "outputs": [],
   "source": [
    "Runs = np.array(df_16[\"Runs\"])"
   ]
  },
  {
   "cell_type": "code",
   "execution_count": 11,
   "metadata": {},
   "outputs": [
    {
     "data": {
      "text/plain": [
       "array([ 89,  90,  91,  92,  93,  94,  95,  96,  97,  98,  99, 100, 101,\n",
       "       102, 103, 104, 105, 106, 107, 108, 109, 110, 111, 112, 113, 114,\n",
       "       115, 116, 117, 118, 119, 120, 121, 122, 123, 124, 125, 126, 127,\n",
       "       128, 129, 130, 131, 132, 133, 134, 135, 136, 137, 138, 139, 140,\n",
       "       141, 142])"
      ]
     },
     "execution_count": 11,
     "metadata": {},
     "output_type": "execute_result"
    }
   ],
   "source": [
    "np.squeeze(np.where(Runs==\"DNB\"))"
   ]
  },
  {
   "cell_type": "code",
   "execution_count": 12,
   "metadata": {},
   "outputs": [
    {
     "data": {
      "text/html": [
       "<div>\n",
       "<style>\n",
       "    .dataframe thead tr:only-child th {\n",
       "        text-align: right;\n",
       "    }\n",
       "\n",
       "    .dataframe thead th {\n",
       "        text-align: left;\n",
       "    }\n",
       "\n",
       "    .dataframe tbody tr th {\n",
       "        vertical-align: top;\n",
       "    }\n",
       "</style>\n",
       "<table border=\"1\" class=\"dataframe\">\n",
       "  <thead>\n",
       "    <tr style=\"text-align: right;\">\n",
       "      <th></th>\n",
       "      <th>Player</th>\n",
       "      <th>Player Link</th>\n",
       "      <th>Minutes</th>\n",
       "      <th>Runs</th>\n",
       "      <th>Balls Faced</th>\n",
       "      <th>Fours</th>\n",
       "      <th>Sixes</th>\n",
       "      <th>Strike Rate</th>\n",
       "      <th>Inns</th>\n",
       "      <th>Opposition</th>\n",
       "      <th>Ground</th>\n",
       "      <th>Start Date</th>\n",
       "      <th>year</th>\n",
       "    </tr>\n",
       "  </thead>\n",
       "  <tbody>\n",
       "    <tr>\n",
       "      <th>0</th>\n",
       "      <td>RG Sharma</td>\n",
       "      <td>/ci/content/player/34102.html</td>\n",
       "      <td>205</td>\n",
       "      <td>171*</td>\n",
       "      <td>163</td>\n",
       "      <td>13</td>\n",
       "      <td>7</td>\n",
       "      <td>104.90</td>\n",
       "      <td>1</td>\n",
       "      <td>Australia</td>\n",
       "      <td>Perth</td>\n",
       "      <td>12 Jan 2016</td>\n",
       "      <td>2016</td>\n",
       "    </tr>\n",
       "    <tr>\n",
       "      <th>1</th>\n",
       "      <td>V Kohli</td>\n",
       "      <td>/ci/content/player/253802.html</td>\n",
       "      <td>202</td>\n",
       "      <td>154*</td>\n",
       "      <td>134</td>\n",
       "      <td>16</td>\n",
       "      <td>1</td>\n",
       "      <td>114.92</td>\n",
       "      <td>2</td>\n",
       "      <td>New Zealand</td>\n",
       "      <td>Mohali</td>\n",
       "      <td>23 Oct 2016</td>\n",
       "      <td>2016</td>\n",
       "    </tr>\n",
       "    <tr>\n",
       "      <th>2</th>\n",
       "      <td>S Dhawan</td>\n",
       "      <td>/ci/content/player/28235.html</td>\n",
       "      <td>154</td>\n",
       "      <td>126</td>\n",
       "      <td>113</td>\n",
       "      <td>14</td>\n",
       "      <td>2</td>\n",
       "      <td>111.50</td>\n",
       "      <td>2</td>\n",
       "      <td>Australia</td>\n",
       "      <td>Canberra</td>\n",
       "      <td>20 Jan 2016</td>\n",
       "      <td>2016</td>\n",
       "    </tr>\n",
       "    <tr>\n",
       "      <th>3</th>\n",
       "      <td>RG Sharma</td>\n",
       "      <td>/ci/content/player/34102.html</td>\n",
       "      <td>175</td>\n",
       "      <td>124</td>\n",
       "      <td>127</td>\n",
       "      <td>11</td>\n",
       "      <td>3</td>\n",
       "      <td>97.63</td>\n",
       "      <td>1</td>\n",
       "      <td>Australia</td>\n",
       "      <td>Brisbane</td>\n",
       "      <td>15 Jan 2016</td>\n",
       "      <td>2016</td>\n",
       "    </tr>\n",
       "    <tr>\n",
       "      <th>4</th>\n",
       "      <td>V Kohli</td>\n",
       "      <td>/ci/content/player/253802.html</td>\n",
       "      <td>174</td>\n",
       "      <td>117</td>\n",
       "      <td>117</td>\n",
       "      <td>7</td>\n",
       "      <td>2</td>\n",
       "      <td>100.00</td>\n",
       "      <td>1</td>\n",
       "      <td>Australia</td>\n",
       "      <td>Melbourne</td>\n",
       "      <td>17 Jan 2016</td>\n",
       "      <td>2016</td>\n",
       "    </tr>\n",
       "  </tbody>\n",
       "</table>\n",
       "</div>"
      ],
      "text/plain": [
       "      Player                     Player Link Minutes  Runs Balls Faced Fours  \\\n",
       "0  RG Sharma   /ci/content/player/34102.html     205  171*         163    13   \n",
       "1    V Kohli  /ci/content/player/253802.html     202  154*         134    16   \n",
       "2   S Dhawan   /ci/content/player/28235.html     154   126         113    14   \n",
       "3  RG Sharma   /ci/content/player/34102.html     175   124         127    11   \n",
       "4    V Kohli  /ci/content/player/253802.html     174   117         117     7   \n",
       "\n",
       "  Sixes Strike Rate  Inns   Opposition     Ground   Start Date  year  \n",
       "0     7      104.90     1    Australia      Perth  12 Jan 2016  2016  \n",
       "1     1      114.92     2  New Zealand     Mohali  23 Oct 2016  2016  \n",
       "2     2      111.50     2    Australia   Canberra  20 Jan 2016  2016  \n",
       "3     3       97.63     1    Australia   Brisbane  15 Jan 2016  2016  \n",
       "4     2      100.00     1    Australia  Melbourne  17 Jan 2016  2016  "
      ]
     },
     "execution_count": 12,
     "metadata": {},
     "output_type": "execute_result"
    }
   ],
   "source": [
    "ndf_16=df_16[0:88]\n",
    "ndf_16.head(5)"
   ]
  },
  {
   "cell_type": "markdown",
   "metadata": {},
   "source": [
    "# Create a Dateframe of unique players name and their maximum score "
   ]
  },
  {
   "cell_type": "code",
   "execution_count": 13,
   "metadata": {},
   "outputs": [
    {
     "data": {
      "text/plain": [
       "array(['RG Sharma', 'V Kohli', 'S Dhawan', 'MK Pandey', 'KL Rahul',\n",
       "       'AM Rahane', 'MS Dhoni', 'AT Rayudu', 'FY Fazal', 'KM Jadhav',\n",
       "       'KK Nair', 'AR Patel', 'HH Pandya', 'DS Kulkarni', 'RA Jadeja',\n",
       "       'UT Yadav', 'A Mishra', 'R Dhawan', 'Gurkeerat Singh', 'B Kumar',\n",
       "       'J Yadav', 'R Ashwin', 'I Sharma', 'JJ Bumrah'], dtype=object)"
      ]
     },
     "execution_count": 13,
     "metadata": {},
     "output_type": "execute_result"
    }
   ],
   "source": [
    "ndf_16.Player.unique()"
   ]
  },
  {
   "cell_type": "code",
   "execution_count": 14,
   "metadata": {
    "collapsed": true
   },
   "outputs": [],
   "source": [
    "playernames = ndf_16.Player.unique()"
   ]
  },
  {
   "cell_type": "code",
   "execution_count": 15,
   "metadata": {
    "collapsed": true
   },
   "outputs": [],
   "source": [
    "runs=[]\n",
    "for i in range(len(ndf_16)):\n",
    "    try:\n",
    "        r = np.int(ndf_16['Runs'][i])\n",
    "    except:\n",
    "        r= np.int(ndf_16.Runs.unique()[0].split(\"*\")[0])\n",
    "    runs.append(r)\n",
    "modRun = pd.DataFrame(runs,columns=[\"modRun\"])\n",
    "modDf  = pd.concat([ndf_16,modRun],axis=1)"
   ]
  },
  {
   "cell_type": "code",
   "execution_count": 16,
   "metadata": {
    "collapsed": true
   },
   "outputs": [],
   "source": [
    "def PlayerMaxRun(playername):\n",
    "    tmpPlayer     = modDf[modDf[\"Player\"]==playername]\n",
    "    tmpPlayer     = tmpPlayer.reset_index(drop=True)\n",
    "    maxrun        = np.max(np.array(tmpPlayer[\"modRun\"]))\n",
    "    totalrun      = sum(np.array(tmpPlayer[\"modRun\"]))\n",
    "    return (maxrun,totalrun)"
   ]
  },
  {
   "cell_type": "code",
   "execution_count": 17,
   "metadata": {
    "collapsed": true
   },
   "outputs": [],
   "source": [
    "tb1=[]\n",
    "rnn=[]\n",
    "for i in playernames:\n",
    "    [mxrn,trn] = PlayerMaxRun(i)\n",
    "    tb1.append([i,mxrn,trn])\n",
    "    rnn.append(mxrn)"
   ]
  },
  {
   "cell_type": "code",
   "execution_count": 18,
   "metadata": {},
   "outputs": [
    {
     "data": {
      "text/plain": [
       "[['RG Sharma', 171, 564],\n",
       " ['V Kohli', 171, 842],\n",
       " ['S Dhawan', 126, 287],\n",
       " ['MK Pandey', 171, 567],\n",
       " ['KL Rahul', 171, 375],\n",
       " ['AM Rahane', 89, 284],\n",
       " ['MS Dhoni', 80, 278],\n",
       " ['AT Rayudu', 171, 342],\n",
       " ['FY Fazal', 171, 171],\n",
       " ['KM Jadhav', 171, 383],\n",
       " ['KK Nair', 39, 46],\n",
       " ['AR Patel', 38, 79],\n",
       " ['HH Pandya', 36, 45],\n",
       " ['DS Kulkarni', 171, 171],\n",
       " ['RA Jadeja', 171, 518],\n",
       " ['UT Yadav', 171, 351],\n",
       " ['A Mishra', 14, 15],\n",
       " ['R Dhawan', 171, 180],\n",
       " ['Gurkeerat Singh', 171, 184],\n",
       " ['B Kumar', 2, 2],\n",
       " ['J Yadav', 171, 171],\n",
       " ['R Ashwin', 1, 1],\n",
       " ['I Sharma', 0, 0],\n",
       " ['JJ Bumrah', 0, 0]]"
      ]
     },
     "execution_count": 18,
     "metadata": {},
     "output_type": "execute_result"
    }
   ],
   "source": [
    "tb1"
   ]
  },
  {
   "cell_type": "code",
   "execution_count": 19,
   "metadata": {
    "scrolled": false
   },
   "outputs": [
    {
     "data": {
      "text/html": [
       "<div>\n",
       "<style>\n",
       "    .dataframe thead tr:only-child th {\n",
       "        text-align: right;\n",
       "    }\n",
       "\n",
       "    .dataframe thead th {\n",
       "        text-align: left;\n",
       "    }\n",
       "\n",
       "    .dataframe tbody tr th {\n",
       "        vertical-align: top;\n",
       "    }\n",
       "</style>\n",
       "<table border=\"1\" class=\"dataframe\">\n",
       "  <thead>\n",
       "    <tr style=\"text-align: right;\">\n",
       "      <th></th>\n",
       "      <th>player_name</th>\n",
       "      <th>max_run</th>\n",
       "      <th>total_run</th>\n",
       "    </tr>\n",
       "  </thead>\n",
       "  <tbody>\n",
       "    <tr>\n",
       "      <th>0</th>\n",
       "      <td>RG Sharma</td>\n",
       "      <td>171</td>\n",
       "      <td>564</td>\n",
       "    </tr>\n",
       "    <tr>\n",
       "      <th>1</th>\n",
       "      <td>V Kohli</td>\n",
       "      <td>171</td>\n",
       "      <td>842</td>\n",
       "    </tr>\n",
       "    <tr>\n",
       "      <th>2</th>\n",
       "      <td>S Dhawan</td>\n",
       "      <td>126</td>\n",
       "      <td>287</td>\n",
       "    </tr>\n",
       "    <tr>\n",
       "      <th>3</th>\n",
       "      <td>MK Pandey</td>\n",
       "      <td>171</td>\n",
       "      <td>567</td>\n",
       "    </tr>\n",
       "    <tr>\n",
       "      <th>4</th>\n",
       "      <td>KL Rahul</td>\n",
       "      <td>171</td>\n",
       "      <td>375</td>\n",
       "    </tr>\n",
       "    <tr>\n",
       "      <th>5</th>\n",
       "      <td>AM Rahane</td>\n",
       "      <td>89</td>\n",
       "      <td>284</td>\n",
       "    </tr>\n",
       "    <tr>\n",
       "      <th>6</th>\n",
       "      <td>MS Dhoni</td>\n",
       "      <td>80</td>\n",
       "      <td>278</td>\n",
       "    </tr>\n",
       "    <tr>\n",
       "      <th>7</th>\n",
       "      <td>AT Rayudu</td>\n",
       "      <td>171</td>\n",
       "      <td>342</td>\n",
       "    </tr>\n",
       "    <tr>\n",
       "      <th>8</th>\n",
       "      <td>FY Fazal</td>\n",
       "      <td>171</td>\n",
       "      <td>171</td>\n",
       "    </tr>\n",
       "    <tr>\n",
       "      <th>9</th>\n",
       "      <td>KM Jadhav</td>\n",
       "      <td>171</td>\n",
       "      <td>383</td>\n",
       "    </tr>\n",
       "    <tr>\n",
       "      <th>10</th>\n",
       "      <td>KK Nair</td>\n",
       "      <td>39</td>\n",
       "      <td>46</td>\n",
       "    </tr>\n",
       "    <tr>\n",
       "      <th>11</th>\n",
       "      <td>AR Patel</td>\n",
       "      <td>38</td>\n",
       "      <td>79</td>\n",
       "    </tr>\n",
       "    <tr>\n",
       "      <th>12</th>\n",
       "      <td>HH Pandya</td>\n",
       "      <td>36</td>\n",
       "      <td>45</td>\n",
       "    </tr>\n",
       "    <tr>\n",
       "      <th>13</th>\n",
       "      <td>DS Kulkarni</td>\n",
       "      <td>171</td>\n",
       "      <td>171</td>\n",
       "    </tr>\n",
       "    <tr>\n",
       "      <th>14</th>\n",
       "      <td>RA Jadeja</td>\n",
       "      <td>171</td>\n",
       "      <td>518</td>\n",
       "    </tr>\n",
       "    <tr>\n",
       "      <th>15</th>\n",
       "      <td>UT Yadav</td>\n",
       "      <td>171</td>\n",
       "      <td>351</td>\n",
       "    </tr>\n",
       "    <tr>\n",
       "      <th>16</th>\n",
       "      <td>A Mishra</td>\n",
       "      <td>14</td>\n",
       "      <td>15</td>\n",
       "    </tr>\n",
       "    <tr>\n",
       "      <th>17</th>\n",
       "      <td>R Dhawan</td>\n",
       "      <td>171</td>\n",
       "      <td>180</td>\n",
       "    </tr>\n",
       "    <tr>\n",
       "      <th>18</th>\n",
       "      <td>Gurkeerat Singh</td>\n",
       "      <td>171</td>\n",
       "      <td>184</td>\n",
       "    </tr>\n",
       "    <tr>\n",
       "      <th>19</th>\n",
       "      <td>B Kumar</td>\n",
       "      <td>2</td>\n",
       "      <td>2</td>\n",
       "    </tr>\n",
       "    <tr>\n",
       "      <th>20</th>\n",
       "      <td>J Yadav</td>\n",
       "      <td>171</td>\n",
       "      <td>171</td>\n",
       "    </tr>\n",
       "    <tr>\n",
       "      <th>21</th>\n",
       "      <td>R Ashwin</td>\n",
       "      <td>1</td>\n",
       "      <td>1</td>\n",
       "    </tr>\n",
       "    <tr>\n",
       "      <th>22</th>\n",
       "      <td>I Sharma</td>\n",
       "      <td>0</td>\n",
       "      <td>0</td>\n",
       "    </tr>\n",
       "    <tr>\n",
       "      <th>23</th>\n",
       "      <td>JJ Bumrah</td>\n",
       "      <td>0</td>\n",
       "      <td>0</td>\n",
       "    </tr>\n",
       "  </tbody>\n",
       "</table>\n",
       "</div>"
      ],
      "text/plain": [
       "        player_name  max_run  total_run\n",
       "0         RG Sharma      171        564\n",
       "1           V Kohli      171        842\n",
       "2          S Dhawan      126        287\n",
       "3         MK Pandey      171        567\n",
       "4          KL Rahul      171        375\n",
       "5         AM Rahane       89        284\n",
       "6          MS Dhoni       80        278\n",
       "7         AT Rayudu      171        342\n",
       "8          FY Fazal      171        171\n",
       "9         KM Jadhav      171        383\n",
       "10          KK Nair       39         46\n",
       "11         AR Patel       38         79\n",
       "12        HH Pandya       36         45\n",
       "13      DS Kulkarni      171        171\n",
       "14        RA Jadeja      171        518\n",
       "15         UT Yadav      171        351\n",
       "16         A Mishra       14         15\n",
       "17         R Dhawan      171        180\n",
       "18  Gurkeerat Singh      171        184\n",
       "19          B Kumar        2          2\n",
       "20          J Yadav      171        171\n",
       "21         R Ashwin        1          1\n",
       "22         I Sharma        0          0\n",
       "23        JJ Bumrah        0          0"
      ]
     },
     "execution_count": 19,
     "metadata": {},
     "output_type": "execute_result"
    }
   ],
   "source": [
    "dfx = pd.DataFrame(tb1,columns=['player_name','max_run','total_run'])\n",
    "dfx"
   ]
  },
  {
   "cell_type": "markdown",
   "metadata": {},
   "source": [
    "# Visulaize in Plotly"
   ]
  },
  {
   "cell_type": "code",
   "execution_count": 20,
   "metadata": {
    "collapsed": true
   },
   "outputs": [],
   "source": [
    "import plotly \n",
    "plotly.tools.set_credentials_file(username='ayon.mi1', api_key='iIBYMNu0RVcR1GmQSeD0')"
   ]
  },
  {
   "cell_type": "code",
   "execution_count": 21,
   "metadata": {},
   "outputs": [
    {
     "name": "stdout",
     "output_type": "stream",
     "text": [
      "High five! You successfully sent some data to your account on plotly. View your plot in your browser at https://plot.ly/~ayon.mi1/0 or inside your plot.ly account where it is named 'basic-bar'\n"
     ]
    },
    {
     "data": {
      "text/html": [
       "<iframe id=\"igraph\" scrolling=\"no\" style=\"border:none;\" seamless=\"seamless\" src=\"https://plot.ly/~ayon.mi1/0.embed\" height=\"525px\" width=\"100%\"></iframe>"
      ],
      "text/plain": [
       "<plotly.tools.PlotlyDisplay object>"
      ]
     },
     "execution_count": 21,
     "metadata": {},
     "output_type": "execute_result"
    }
   ],
   "source": [
    "data = [go.Bar(\n",
    "            x=np.array(dfx['player_name']),\n",
    "            y=np.array(dfx['max_run'])\n",
    "            \n",
    "    )]\n",
    "\n",
    "layout = go.Layout(\n",
    "    \n",
    "    title='Maximun_Score per player',\n",
    "    xaxis=dict(\n",
    "        title='Players_name',\n",
    "        titlefont=dict(\n",
    "            family='Courier New, monospace',\n",
    "            size=18,\n",
    "            color='#7f7f7f'\n",
    "        )\n",
    "    ),\n",
    "    yaxis=dict(\n",
    "        title='Max_Run',\n",
    "        titlefont=dict(\n",
    "            family='Courier New, monospace',\n",
    "            size=18,\n",
    "            color='#7f7f7f'\n",
    "        )\n",
    "    )\n",
    ")\n",
    "\n",
    "fig = go.Figure(data=data, layout=layout)\n",
    "py.iplot(fig, filename='basic-bar')"
   ]
  },
  {
   "cell_type": "code",
   "execution_count": 22,
   "metadata": {},
   "outputs": [
    {
     "data": {
      "image/png": "[encoded data removed]",
      "text/plain": [
       "<IPython.core.display.Image object>"
      ]
     },
     "execution_count": 22,
     "metadata": {},
     "output_type": "execute_result"
    }
   ],
   "source": [
    "from IPython.display import Image\n",
    "Image(filename='f1.png')"
   ]
  },
  {
   "cell_type": "code",
   "execution_count": 24,
   "metadata": {},
   "outputs": [
    {
     "name": "stdout",
     "output_type": "stream",
     "text": [
      "High five! You successfully sent some data to your account on plotly. View your plot in your browser at https://plot.ly/~ayon.mi1/0 or inside your plot.ly account where it is named 'basic-bar'\n"
     ]
    },
    {
     "data": {
      "text/html": [
       "<iframe id=\"igraph\" scrolling=\"no\" style=\"border:none;\" seamless=\"seamless\" src=\"https://plot.ly/~ayon.mi1/0.embed\" height=\"525px\" width=\"100%\"></iframe>"
      ],
      "text/plain": [
       "<plotly.tools.PlotlyDisplay object>"
      ]
     },
     "execution_count": 24,
     "metadata": {},
     "output_type": "execute_result"
    }
   ],
   "source": [
    "data = [go.Bar(\n",
    "            x=np.array(dfx['player_name']),\n",
    "            y=np.array(dfx['total_run'])\n",
    "            \n",
    "    )]\n",
    "\n",
    "layout = go.Layout(\n",
    "    \n",
    "    title='Total_Run per player',\n",
    "    xaxis=dict(\n",
    "        title='Players_name',\n",
    "        titlefont=dict(\n",
    "            family='Courier New, monospace',\n",
    "            size=18,\n",
    "            color='#7f7f7f'\n",
    "        )\n",
    "    ),\n",
    "    yaxis=dict(\n",
    "        title='Total_run',\n",
    "        titlefont=dict(\n",
    "            family='Courier New, monospace',\n",
    "            size=18,\n",
    "            color='#7f7f7f'\n",
    "        )\n",
    "    )\n",
    ")\n",
    "\n",
    "fig = go.Figure(data=data, layout=layout)\n",
    "py.iplot(fig, filename='basic-bar')"
   ]
  },
  {
   "cell_type": "code",
   "execution_count": 25,
   "metadata": {},
   "outputs": [
    {
     "data": {
      "image/png": "[encoded data removed]",
      "text/plain": [
       "<IPython.core.display.Image object>"
      ]
     },
     "execution_count": 25,
     "metadata": {},
     "output_type": "execute_result"
    }
   ],
   "source": [
    "from IPython.display import Image\n",
    "Image(filename='f2.png')"
   ]
  },
  {
   "cell_type": "code",
   "execution_count": null,
   "metadata": {
    "collapsed": true
   },
   "outputs": [],
   "source": []
  }
 ],
 "metadata": {
  "kernelspec": {
   "display_name": "Python [conda root]",
   "language": "python",
   "name": "conda-root-py"
  },
  "language_info": {
   "codemirror_mode": {
    "name": "ipython",
    "version": 3
   },
   "file_extension": ".py",
   "mimetype": "text/x-python",
   "name": "python",
   "nbconvert_exporter": "python",
   "pygments_lexer": "ipython3",
   "version": "3.5.3"
  }
 },
 "nbformat": 4,
 "nbformat_minor": 2
}
